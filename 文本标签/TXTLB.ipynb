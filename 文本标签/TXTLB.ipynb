{
 "cells": [
  {
   "cell_type": "code",
   "execution_count": 28,
   "metadata": {},
   "outputs": [],
   "source": [
    "import pandas as pd\n",
    "import h5py\n",
    "import jieba as jb\n",
    "import numpy as np\n",
    "import tensorflow as tf\n",
    "from sklearn.preprocessing import LabelEncoder\n",
    "from keras.layers import Layer\n",
    "import keras.backend as K\n",
    "from keras.layers import Input,Embedding,Bidirectional,LSTM,Concatenate,Dense,Dropout,Activation\n",
    "from keras import Sequential\n",
    "import keras"
   ]
  },
  {
   "cell_type": "code",
   "execution_count": 2,
   "metadata": {},
   "outputs": [
    {
     "data": {
      "text/html": [
       "<div>\n",
       "<style scoped>\n",
       "    .dataframe tbody tr th:only-of-type {\n",
       "        vertical-align: middle;\n",
       "    }\n",
       "\n",
       "    .dataframe tbody tr th {\n",
       "        vertical-align: top;\n",
       "    }\n",
       "\n",
       "    .dataframe thead th {\n",
       "        text-align: right;\n",
       "    }\n",
       "</style>\n",
       "<table border=\"1\" class=\"dataframe\">\n",
       "  <thead>\n",
       "    <tr style=\"text-align: right;\">\n",
       "      <th></th>\n",
       "      <th>question</th>\n",
       "      <th>description</th>\n",
       "      <th>keywords</th>\n",
       "      <th>answer_text</th>\n",
       "    </tr>\n",
       "  </thead>\n",
       "  <tbody>\n",
       "    <tr>\n",
       "      <th>0</th>\n",
       "      <td>高三后的迷茫，高考前的恐惧，能给我一些建议么？</td>\n",
       "      <td>现在的我，感觉就像是从自己出生以来就是多余的，我就不应该出现在这个世界，现在就读高三的我，面...</td>\n",
       "      <td>成长,压力管理,工作学习,学生成长</td>\n",
       "      <td>抱抱~看到你的提问感觉你很焦虑，这个状态在高中高压下很容易出现。我想说的是，我看到了你的决心...</td>\n",
       "    </tr>\n",
       "    <tr>\n",
       "      <th>1</th>\n",
       "      <td>察觉到一种模式，我总喜欢自己检讨、批评自己？</td>\n",
       "      <td>我和我妈妈讲话会陷入一种很恶心的模式。我只要说遇到的烦恼她是无动于衷的，但是我一旦开始批评自...</td>\n",
       "      <td>家庭,家庭创伤,成长过程,家人控制</td>\n",
       "      <td>楼主你好，看到你习惯性检讨自己，批评自己，我感到很心疼。看到你这种模式会出现在和妈妈的对话中...</td>\n",
       "    </tr>\n",
       "    <tr>\n",
       "      <th>2</th>\n",
       "      <td>高四，社恐，该不该分心去交点朋友，还是就保持高冷？</td>\n",
       "      <td>社恐挺严重，不喜欢离开舒适区，感觉和陌生同学交流需要很大勇气。我是应该认真学习独来独往，还是...</td>\n",
       "      <td>人际,社交恐惧</td>\n",
       "      <td>楼主你好，看到你在犹豫要不要交朋友。高四的你应该是去到了完全陌生的班级，他们已经有自己的朋友...</td>\n",
       "    </tr>\n",
       "    <tr>\n",
       "      <th>3</th>\n",
       "      <td>心里其实是很抗拒的，怎么提高执行力？</td>\n",
       "      <td>想做的事情很多，一直在想却没有行动，怎么才能让自己行动起来呢？心里其实是很抗拒的，但是怎么才...</td>\n",
       "      <td>成长,自我成长,人生意义</td>\n",
       "      <td>楼主你好，看到你有很多想做的事情，但是却没有行动起来。对自己没有行动这件事，内心也是很抗拒的...</td>\n",
       "    </tr>\n",
       "    <tr>\n",
       "      <th>4</th>\n",
       "      <td>新初中生，总是和妈妈闹矛盾，但又做不出行动怎么办？</td>\n",
       "      <td>长大了总喜欢跟家长顶嘴妈妈总说我顶嘴顶的很没道理但是憋着我也很不爽。妈妈很为我的学业担忧才初...</td>\n",
       "      <td>成长,自我成长,自我接纳,学生成长</td>\n",
       "      <td>题主，你好，抱抱你呀～看了你的描述，你很不想影响到妈妈心情，但是在无意中挑起了争端，真的很能...</td>\n",
       "    </tr>\n",
       "    <tr>\n",
       "      <th>...</th>\n",
       "      <td>...</td>\n",
       "      <td>...</td>\n",
       "      <td>...</td>\n",
       "      <td>...</td>\n",
       "    </tr>\n",
       "    <tr>\n",
       "      <th>22336</th>\n",
       "      <td>除了必要的聚会，喜欢一个人独处，很怪吗？</td>\n",
       "      <td>平时休息或者节假日，我除去必要的聚会以外，就喜欢自己宅在家里，做自己喜欢的事，我的爱好很多，...</td>\n",
       "      <td>人际,社交恐惧,人际边界</td>\n",
       "      <td>看到你问“这样真的很怪吗”？我想知道，如果很怪，会怎样？如果不是很怪，又会怎样呢？怪还是不怪...</td>\n",
       "    </tr>\n",
       "    <tr>\n",
       "      <th>22337</th>\n",
       "      <td>在家得不到关爱应不应该离家出走、一刀两断？</td>\n",
       "      <td>心累心里非常痛心里非常难受感觉在家非常难受应不应该离家出走一刀两断</td>\n",
       "      <td>家庭,家庭关系</td>\n",
       "      <td>在中国家庭，的确家是不讲理，家也最伤人。但是家是社会基本做成单元。家能提供的温暖和爱，还是很...</td>\n",
       "    </tr>\n",
       "    <tr>\n",
       "      <th>22338</th>\n",
       "      <td>男朋友总是不做家务，要说好久才行动，怎么办？</td>\n",
       "      <td>男朋友总是不喜欢做家务，有时候让他做点什么，要说好久才行动，而且从不多做，多说几句就说你爱做...</td>\n",
       "      <td>恋爱,恋爱经营</td>\n",
       "      <td>很理解题主的感受。遇到这样的事，很多人无法接受，尤其在当今社会，女士也跟男士一样，出去工作，...</td>\n",
       "    </tr>\n",
       "    <tr>\n",
       "      <th>22339</th>\n",
       "      <td>为什么亲密关系中一发生冲突，我就想断绝来往？</td>\n",
       "      <td>为什么我的亲密关系中一发生冲突，就想断绝来往了。删掉所有我为他做的事，事后有很后悔，可以继续...</td>\n",
       "      <td>人际,沟通,矛盾冲突</td>\n",
       "      <td>你觉察到自己承受痛苦的能力很小，觉察到自己在亲密关系中面对冲突时的行为模式。就像你说的一样，...</td>\n",
       "    </tr>\n",
       "    <tr>\n",
       "      <th>22340</th>\n",
       "      <td>我该遵循自己的内心还是照顾男友的感受？</td>\n",
       "      <td>去年偶然又和初恋联系上了，他已成家，我也已有男订婚男友。大家再次谈笑风生，说说以前，聊聊日常...</td>\n",
       "      <td>婚姻,婚前,婚姻观念</td>\n",
       "      <td>#最近他不太顺心，要出去远行一趟，刚好我也有时间，就想着，要不一块同行，也有个照应，再来，由...</td>\n",
       "    </tr>\n",
       "  </tbody>\n",
       "</table>\n",
       "<p>22341 rows × 4 columns</p>\n",
       "</div>"
      ],
      "text/plain": [
       "                        question  \\\n",
       "0        高三后的迷茫，高考前的恐惧，能给我一些建议么？   \n",
       "1         察觉到一种模式，我总喜欢自己检讨、批评自己？   \n",
       "2      高四，社恐，该不该分心去交点朋友，还是就保持高冷？   \n",
       "3             心里其实是很抗拒的，怎么提高执行力？   \n",
       "4      新初中生，总是和妈妈闹矛盾，但又做不出行动怎么办？   \n",
       "...                          ...   \n",
       "22336       除了必要的聚会，喜欢一个人独处，很怪吗？   \n",
       "22337      在家得不到关爱应不应该离家出走、一刀两断？   \n",
       "22338     男朋友总是不做家务，要说好久才行动，怎么办？   \n",
       "22339     为什么亲密关系中一发生冲突，我就想断绝来往？   \n",
       "22340        我该遵循自己的内心还是照顾男友的感受？   \n",
       "\n",
       "                                             description           keywords  \\\n",
       "0      现在的我，感觉就像是从自己出生以来就是多余的，我就不应该出现在这个世界，现在就读高三的我，面...  成长,压力管理,工作学习,学生成长   \n",
       "1      我和我妈妈讲话会陷入一种很恶心的模式。我只要说遇到的烦恼她是无动于衷的，但是我一旦开始批评自...  家庭,家庭创伤,成长过程,家人控制   \n",
       "2      社恐挺严重，不喜欢离开舒适区，感觉和陌生同学交流需要很大勇气。我是应该认真学习独来独往，还是...            人际,社交恐惧   \n",
       "3      想做的事情很多，一直在想却没有行动，怎么才能让自己行动起来呢？心里其实是很抗拒的，但是怎么才...       成长,自我成长,人生意义   \n",
       "4      长大了总喜欢跟家长顶嘴妈妈总说我顶嘴顶的很没道理但是憋着我也很不爽。妈妈很为我的学业担忧才初...  成长,自我成长,自我接纳,学生成长   \n",
       "...                                                  ...                ...   \n",
       "22336  平时休息或者节假日，我除去必要的聚会以外，就喜欢自己宅在家里，做自己喜欢的事，我的爱好很多，...       人际,社交恐惧,人际边界   \n",
       "22337                  心累心里非常痛心里非常难受感觉在家非常难受应不应该离家出走一刀两断            家庭,家庭关系   \n",
       "22338  男朋友总是不喜欢做家务，有时候让他做点什么，要说好久才行动，而且从不多做，多说几句就说你爱做...            恋爱,恋爱经营   \n",
       "22339  为什么我的亲密关系中一发生冲突，就想断绝来往了。删掉所有我为他做的事，事后有很后悔，可以继续...         人际,沟通,矛盾冲突   \n",
       "22340  去年偶然又和初恋联系上了，他已成家，我也已有男订婚男友。大家再次谈笑风生，说说以前，聊聊日常...         婚姻,婚前,婚姻观念   \n",
       "\n",
       "                                             answer_text  \n",
       "0      抱抱~看到你的提问感觉你很焦虑，这个状态在高中高压下很容易出现。我想说的是，我看到了你的决心...  \n",
       "1      楼主你好，看到你习惯性检讨自己，批评自己，我感到很心疼。看到你这种模式会出现在和妈妈的对话中...  \n",
       "2      楼主你好，看到你在犹豫要不要交朋友。高四的你应该是去到了完全陌生的班级，他们已经有自己的朋友...  \n",
       "3      楼主你好，看到你有很多想做的事情，但是却没有行动起来。对自己没有行动这件事，内心也是很抗拒的...  \n",
       "4      题主，你好，抱抱你呀～看了你的描述，你很不想影响到妈妈心情，但是在无意中挑起了争端，真的很能...  \n",
       "...                                                  ...  \n",
       "22336  看到你问“这样真的很怪吗”？我想知道，如果很怪，会怎样？如果不是很怪，又会怎样呢？怪还是不怪...  \n",
       "22337  在中国家庭，的确家是不讲理，家也最伤人。但是家是社会基本做成单元。家能提供的温暖和爱，还是很...  \n",
       "22338  很理解题主的感受。遇到这样的事，很多人无法接受，尤其在当今社会，女士也跟男士一样，出去工作，...  \n",
       "22339  你觉察到自己承受痛苦的能力很小，觉察到自己在亲密关系中面对冲突时的行为模式。就像你说的一样，...  \n",
       "22340  #最近他不太顺心，要出去远行一趟，刚好我也有时间，就想着，要不一块同行，也有个照应，再来，由...  \n",
       "\n",
       "[22341 rows x 4 columns]"
      ]
     },
     "execution_count": 2,
     "metadata": {},
     "output_type": "execute_result"
    }
   ],
   "source": [
    "df = pd.read_csv('PsyQA.csv')\n",
    "df"
   ]
  },
  {
   "cell_type": "markdown",
   "metadata": {},
   "source": [
    "## 数据处理"
   ]
  },
  {
   "cell_type": "code",
   "execution_count": 3,
   "metadata": {},
   "outputs": [
    {
     "data": {
      "text/plain": [
       "array(['成长', '家庭', '人际', '治疗', '行为', '恋爱', '情绪', '婚姻', '职业'], dtype=object)"
      ]
     },
     "execution_count": 3,
     "metadata": {},
     "output_type": "execute_result"
    }
   ],
   "source": [
    "df[['keywords','subkey']] = df['keywords'].str.split(',',n=1,expand=True) # 获取主标签\n",
    "classes = df['keywords'].unique() # 获取唯一值\n",
    "classes"
   ]
  },
  {
   "cell_type": "code",
   "execution_count": 4,
   "metadata": {},
   "outputs": [],
   "source": [
    "# 将标砖转换为one-hot的形式\n",
    "from tensorflow.keras.utils import to_categorical\n",
    "encoder = LabelEncoder()\n",
    "encoder.fit(classes)\n",
    "encoded_target = encoder.transform(df['keywords'])\n",
    "Y = krs.utils.np_utils.to_categorical(encoded_target)"
   ]
  },
  {
   "cell_type": "code",
   "execution_count": 5,
   "metadata": {},
   "outputs": [
    {
     "data": {
      "text/plain": [
       "array([5, 2, 0, ..., 3, 0, 1])"
      ]
     },
     "execution_count": 5,
     "metadata": {},
     "output_type": "execute_result"
    }
   ],
   "source": [
    "# 查看不同的标签对应的数组位置\n",
    "encoded_target"
   ]
  },
  {
   "cell_type": "code",
   "execution_count": 6,
   "metadata": {},
   "outputs": [],
   "source": [
    "# 按照encode的结果,重新设置类别顺序\n",
    "classes = ['人际','婚姻','家庭','恋爱','情绪','成长','治疗','职业','行为']"
   ]
  },
  {
   "cell_type": "code",
   "execution_count": 7,
   "metadata": {},
   "outputs": [
    {
     "name": "stderr",
     "output_type": "stream",
     "text": [
      "<ipython-input-7-dfe1d939aec2>:7: FutureWarning: The default value of regex will change from True to False in a future version. In addition, single character regular expressions will*not* be treated as literal strings when regex=True.\n",
      "  text = text.str.replace('+', '')\n"
     ]
    },
    {
     "data": {
      "text/plain": [
       "0          高三后的迷茫高考前的恐惧能给我一些建议么\n",
       "1           察觉到一种模式我总喜欢自己检讨批评自己\n",
       "2         高四社恐该不该分心去交点朋友还是就保持高冷\n",
       "3              心里其实是很抗拒的怎么提高执行力\n",
       "4        新初中生总是和妈妈闹矛盾但又做不出行动怎么办\n",
       "                  ...          \n",
       "22336         除了必要的聚会喜欢一个人独处很怪吗\n",
       "22337       在家得不到关爱应不应该离家出走一刀两断\n",
       "22338       男朋友总是不做家务要说好久才行动怎么办\n",
       "22339      为什么亲密关系中一发生冲突我就想断绝来往\n",
       "22340        我该遵循自己的内心还是照顾男友的感受\n",
       "Name: question, Length: 22341, dtype: object"
      ]
     },
     "execution_count": 7,
     "metadata": {},
     "output_type": "execute_result"
    }
   ],
   "source": [
    "# 数值处理,将文本中多余的标点去除\n",
    "text = df['question'] # 预测文本为问题\n",
    "text = text.str.replace('、', '')\n",
    "text = text.str.replace('，', '')\n",
    "text = text.str.replace('？', '')\n",
    "text = text.str.replace('……', '')\n",
    "text = text.str.replace('+', '')\n",
    "text = text.str.replace('（', '')\n",
    "text = text.str.replace('）', '')\n",
    "text = text.str.replace('“', '')\n",
    "text = text.str.replace('”', '')\n",
    "text = text.str.replace('！', '')\n",
    "text"
   ]
  },
  {
   "cell_type": "code",
   "execution_count": 8,
   "metadata": {},
   "outputs": [
    {
     "name": "stderr",
     "output_type": "stream",
     "text": [
      "Building prefix dict from the default dictionary ...\n",
      "Loading model from cache C:\\Users\\Public\\Documents\\Wondershare\\CreatorTemp\\jieba.cache\n",
      "Loading model cost 1.479 seconds.\n",
      "Prefix dict has been built successfully.\n"
     ]
    },
    {
     "name": "stdout",
     "output_type": "stream",
     "text": [
      "[169, 79, 1, 163, 232, 1263, 1, 132, 105, 154, 2, 226, 884, 446]\n",
      "高三.后.的.迷茫.高考.考前.的.恐惧.能.给.我.一些.建议.么\n"
     ]
    },
    {
     "data": {
      "text/plain": [
       "16690"
      ]
     },
     "execution_count": 8,
     "metadata": {},
     "output_type": "execute_result"
    }
   ],
   "source": [
    "from keras.preprocessing.text import Tokenizer\n",
    "from keras.preprocessing.sequence import pad_sequences\n",
    "\n",
    "text = ['.'.join(jb.cut(t, cut_all=True)) for t in text] # 使用jieba分词\n",
    "tokenizer = Tokenizer() # 定义tokenizer\n",
    "tokenizer.fit_on_texts(text) # 输入文本,获得字典\n",
    "text_digit = tokenizer.texts_to_sequences(text) # 将输入文化化为对应的数字序列\n",
    "vocab_size = len(tokenizer.word_index) + 1 # 记录总词数\n",
    "# 打印第一个序列,文本和总词数\n",
    "print(text_digit[0]) \n",
    "print(text[0]) \n",
    "vocab_size "
   ]
  },
  {
   "cell_type": "code",
   "execution_count": 9,
   "metadata": {},
   "outputs": [],
   "source": [
    "txt_lenth = 15 # 选取前15个词为输入\n",
    "embedding_size = 50 # Embedding层输出的维度"
   ]
  },
  {
   "cell_type": "code",
   "execution_count": 10,
   "metadata": {},
   "outputs": [
    {
     "data": {
      "text/plain": [
       "array([[ 169,   79,    1, ...,  884,  446,    0],\n",
       "       [2709, 6597,  421, ...,    0,    0,    0],\n",
       "       [ 230, 2710,  694, ...,  515,  230, 1780],\n",
       "       ...,\n",
       "       [  76,   21,   25, ...,    3,    4,    0],\n",
       "       [   7,  308,  462, ..., 2824, 6256, 3504],\n",
       "       [   2,   11, 4469, ...,    0,    0,    0]])"
      ]
     },
     "execution_count": 10,
     "metadata": {},
     "output_type": "execute_result"
    }
   ],
   "source": [
    "# 将输入文本序列扩充为列长为15的矩阵，空缺值为0\n",
    "text_digit = pad_sequences(text_digit, maxlen=txt_lenth, padding='post') \n",
    "text_digit "
   ]
  },
  {
   "cell_type": "markdown",
   "metadata": {},
   "source": [
    "## 构建模型"
   ]
  },
  {
   "cell_type": "code",
   "execution_count": 11,
   "metadata": {},
   "outputs": [],
   "source": [
    "# 划分训练集和测试集\n",
    "from sklearn.model_selection import train_test_split\n",
    "x_train, x_test, y_train, y_test = train_test_split(text_digit, Y, test_size=0.2, random_state=42)"
   ]
  },
  {
   "cell_type": "markdown",
   "metadata": {},
   "source": [
    "### 带Attention和Concatenate的模型"
   ]
  },
  {
   "cell_type": "code",
   "execution_count": 36,
   "metadata": {},
   "outputs": [],
   "source": [
    "class Attention(tf.keras.Model):\n",
    "    def __init__(self, units):\n",
    "        super(Attention, self).__init__()\n",
    "        self.W1 = tf.keras.layers.Dense(units)\n",
    "        self.W2 = tf.keras.layers.Dense(units)\n",
    "        self.V = tf.keras.layers.Dense(1)\n",
    "\n",
    "    def call(self, features, hidden):\n",
    "        # hidden shape == (batch_size, hidden size)\n",
    "        # hidden_with_time_axis shape == (batch_size, 1, hidden size)\n",
    "        # we are doing this to perform addition to calculate the score\n",
    "        hidden_with_time_axis = tf.expand_dims(hidden, 1)\n",
    "          \n",
    "        # score shape == (batch_size, max_length, 1)\n",
    "        # we get 1 at the last axis because we are applying score to self.V\n",
    "        # the shape of the tensor before applying self.V is (batch_size, max_length, units)\n",
    "        score = tf.nn.tanh(\n",
    "            self.W1(features) + self.W2(hidden_with_time_axis))\n",
    "        # attention_weights shape == (batch_size, max_length, 1)\n",
    "        attention_weights = tf.nn.softmax(self.V(score), axis=1)\n",
    "          \n",
    "        # context_vector shape after sum == (batch_size, hidden_size)\n",
    "        context_vector = attention_weights * features\n",
    "        context_vector = tf.reduce_sum(context_vector, axis=1)\n",
    "        return context_vector, attention_weights"
   ]
  },
  {
   "cell_type": "code",
   "execution_count": 45,
   "metadata": {},
   "outputs": [
    {
     "name": "stdout",
     "output_type": "stream",
     "text": [
      "Model: \"model_5\"\n",
      "__________________________________________________________________________________________________\n",
      " Layer (type)                   Output Shape         Param #     Connected to                     \n",
      "==================================================================================================\n",
      " input_6 (InputLayer)           [(None, 15)]         0           []                               \n",
      "                                                                                                  \n",
      " embedding_8 (Embedding)        (None, 15, 50)       834500      ['input_6[0][0]']                \n",
      "                                                                                                  \n",
      " bi_lstm_0 (Bidirectional)      (None, 15, 256)      183296      ['embedding_8[0][0]']            \n",
      "                                                                                                  \n",
      " bi_lstm_1 (Bidirectional)      [(None, 15, 256),    394240      ['bi_lstm_0[0][0]']              \n",
      "                                 (None, 128),                                                     \n",
      "                                 (None, 128),                                                     \n",
      "                                 (None, 128),                                                     \n",
      "                                 (None, 128)]                                                     \n",
      "                                                                                                  \n",
      " concatenate_10 (Concatenate)   (None, 256)          0           ['bi_lstm_1[0][1]',              \n",
      "                                                                  'bi_lstm_1[0][3]']              \n",
      "                                                                                                  \n",
      " attention_5 (Attention)        ((None, 256),        5151        ['bi_lstm_1[0][0]',              \n",
      "                                 (None, 15, 1))                   'concatenate_10[0][0]']         \n",
      "                                                                                                  \n",
      " dense_31 (Dense)               (None, 20)           5140        ['attention_5[0][0]']            \n",
      "                                                                                                  \n",
      " dropout_7 (Dropout)            (None, 20)           0           ['dense_31[0][0]']               \n",
      "                                                                                                  \n",
      " dense_32 (Dense)               (None, 9)            189         ['dropout_7[0][0]']              \n",
      "                                                                                                  \n",
      "==================================================================================================\n",
      "Total params: 1,422,516\n",
      "Trainable params: 1,422,516\n",
      "Non-trainable params: 0\n",
      "__________________________________________________________________________________________________\n",
      "None\n"
     ]
    }
   ],
   "source": [
    "sequence_input = Input(shape=(txt_lenth,), dtype=\"int32\")\n",
    "embedded_sequences = Embedding(vocab_size, embedding_size, input_length=txt_lenth)(sequence_input)\n",
    "lstm = Bidirectional(LSTM(128, return_sequences = True), name=\"bi_lstm_0\")(embedded_sequences)\n",
    "\n",
    "# Getting our LSTM outputs\n",
    "(lstm, forward_h, forward_c, backward_h, backward_c) = Bidirectional(LSTM(128, return_sequences=True, return_state=True), name=\"bi_lstm_1\")(lstm)\n",
    "\n",
    "state_h = Concatenate()([forward_h, backward_h])\n",
    "state_c = Concatenate()([forward_c, backward_c])\n",
    "\n",
    "context_vector, attention_weights = Attention(10)(lstm, state_h)\n",
    "dense1 = Dense(20, activation=\"relu\")(context_vector)\n",
    "dropout = Dropout(0.05)(dense1)\n",
    "output = Dense(9, activation=\"softmax\")(dropout)\n",
    "  \n",
    "model2 = keras.Model(inputs=sequence_input, outputs=output)\n",
    "model2.compile(loss=\"categorical_crossentropy\", optimizer=\"adam\", metrics=[\"accuracy\"]) # 输出层\n",
    "\n",
    "print(model2.summary())"
   ]
  },
  {
   "cell_type": "code",
   "execution_count": 46,
   "metadata": {},
   "outputs": [
    {
     "name": "stdout",
     "output_type": "stream",
     "text": [
      "Epoch 1/20\n",
      "320/320 [==============================] - 27s 57ms/step - loss: 1.8769 - accuracy: 0.2921 - val_loss: 1.5894 - val_accuracy: 0.4285\n",
      "Epoch 2/20\n",
      "320/320 [==============================] - 20s 63ms/step - loss: 1.4708 - accuracy: 0.4716 - val_loss: 1.5077 - val_accuracy: 0.4710\n",
      "Epoch 3/20\n",
      "320/320 [==============================] - 22s 67ms/step - loss: 1.2265 - accuracy: 0.5796 - val_loss: 1.4786 - val_accuracy: 0.4981\n",
      "Epoch 4/20\n",
      "320/320 [==============================] - 20s 64ms/step - loss: 0.9892 - accuracy: 0.6790 - val_loss: 1.5216 - val_accuracy: 0.5021\n",
      "Epoch 5/20\n",
      "320/320 [==============================] - 21s 65ms/step - loss: 0.8015 - accuracy: 0.7504 - val_loss: 1.6328 - val_accuracy: 0.5008\n",
      "Epoch 6/20\n",
      "320/320 [==============================] - 22s 68ms/step - loss: 0.6691 - accuracy: 0.7986 - val_loss: 1.6800 - val_accuracy: 0.4923\n",
      "Epoch 7/20\n",
      "320/320 [==============================] - 21s 66ms/step - loss: 0.5706 - accuracy: 0.8295 - val_loss: 1.8370 - val_accuracy: 0.4851\n",
      "Epoch 8/20\n",
      "320/320 [==============================] - 21s 65ms/step - loss: 0.4836 - accuracy: 0.8574 - val_loss: 2.0336 - val_accuracy: 0.4849\n",
      "Epoch 9/20\n",
      "320/320 [==============================] - 21s 66ms/step - loss: 0.4172 - accuracy: 0.8771 - val_loss: 2.2160 - val_accuracy: 0.4739\n",
      "Epoch 10/20\n",
      "320/320 [==============================] - 21s 66ms/step - loss: 0.3762 - accuracy: 0.8905 - val_loss: 2.3158 - val_accuracy: 0.4712\n",
      "Epoch 11/20\n",
      "320/320 [==============================] - 21s 65ms/step - loss: 0.3293 - accuracy: 0.9024 - val_loss: 2.3188 - val_accuracy: 0.4802\n",
      "Epoch 12/20\n",
      "320/320 [==============================] - 21s 66ms/step - loss: 0.2889 - accuracy: 0.9164 - val_loss: 2.4617 - val_accuracy: 0.4670\n",
      "Epoch 13/20\n",
      "320/320 [==============================] - 21s 66ms/step - loss: 0.2542 - accuracy: 0.9266 - val_loss: 2.6979 - val_accuracy: 0.4742\n",
      "Epoch 14/20\n",
      "320/320 [==============================] - 21s 65ms/step - loss: 0.2398 - accuracy: 0.9304 - val_loss: 2.7053 - val_accuracy: 0.4724\n",
      "Epoch 15/20\n",
      "320/320 [==============================] - 22s 67ms/step - loss: 0.2178 - accuracy: 0.9330 - val_loss: 2.8113 - val_accuracy: 0.4598\n",
      "Epoch 16/20\n",
      "320/320 [==============================] - 22s 69ms/step - loss: 0.1893 - accuracy: 0.9452 - val_loss: 3.0446 - val_accuracy: 0.4583\n",
      "Epoch 17/20\n",
      "320/320 [==============================] - 23s 71ms/step - loss: 0.1742 - accuracy: 0.9470 - val_loss: 3.2001 - val_accuracy: 0.4697\n",
      "Epoch 18/20\n",
      "320/320 [==============================] - 22s 68ms/step - loss: 0.1597 - accuracy: 0.9499 - val_loss: 3.3525 - val_accuracy: 0.4540\n",
      "Epoch 19/20\n",
      "320/320 [==============================] - 21s 67ms/step - loss: 0.1428 - accuracy: 0.9573 - val_loss: 3.3942 - val_accuracy: 0.4614\n",
      "Epoch 20/20\n",
      "320/320 [==============================] - 21s 66ms/step - loss: 0.1315 - accuracy: 0.9599 - val_loss: 3.5051 - val_accuracy: 0.4527\n"
     ]
    }
   ],
   "source": [
    "# 训练模型\n",
    "history2 = model2.fit(text_digit, Y, validation_split = 0.2,batch_size=56, epochs=20)"
   ]
  },
  {
   "cell_type": "code",
   "execution_count": 47,
   "metadata": {},
   "outputs": [
    {
     "data": {
      "image/png": "[encoded data removed]",
      "text/plain": [
       "<Figure size 432x288 with 1 Axes>"
      ]
     },
     "metadata": {
      "needs_background": "light"
     },
     "output_type": "display_data"
    }
   ],
   "source": [
    "import matplotlib.pyplot as plt\n",
    "plt.plot(history2.history['accuracy'])  \n",
    "plt.plot(history2.history['val_accuracy'])  \n",
    "plt.title('Accuracy') # 标题\n",
    "plt.ylabel('accuracy') # x轴为epoch，y轴为loss\n",
    "plt.xlabel('epoch')\n",
    "plt.xlim(0, 20) \n",
    "plt.ylim(0, 1.0) \n",
    "plt.legend(['train','val'], loc='upper right') # 表明图例\n",
    "plt.show() # 展示图片"
   ]
  },
  {
   "cell_type": "code",
   "execution_count": 48,
   "metadata": {},
   "outputs": [
    {
     "data": {
      "image/png": "[encoded data removed]",
      "text/plain": [
       "<Figure size 432x288 with 1 Axes>"
      ]
     },
     "metadata": {
      "needs_background": "light"
     },
     "output_type": "display_data"
    }
   ],
   "source": [
    "plt.plot(history2.history['loss'])  \n",
    "plt.plot(history2.history['val_loss'])  \n",
    "plt.title('Loss') # 标题\n",
    "plt.ylabel('loss') # x轴为epoch，y轴为loss\n",
    "plt.xlabel('epoch')\n",
    "plt.xlim(0, 20) \n",
    "plt.ylim(0, 3)\n",
    "plt.legend(['train','val'], loc='upper right') # 表明图例\n",
    "plt.show() # 展示图片"
   ]
  },
  {
   "cell_type": "markdown",
   "metadata": {},
   "source": [
    "### 简单LSTM模型"
   ]
  },
  {
   "cell_type": "code",
   "execution_count": 29,
   "metadata": {},
   "outputs": [
    {
     "name": "stdout",
     "output_type": "stream",
     "text": [
      "Model: \"sequential_2\"\n",
      "_________________________________________________________________\n",
      " Layer (type)                Output Shape              Param #   \n",
      "=================================================================\n",
      " embedding_4 (Embedding)     (None, 15, 50)            834500    \n",
      "                                                                 \n",
      " lstm_6 (LSTM)               (None, 32)                10624     \n",
      "                                                                 \n",
      " dense_12 (Dense)            (None, 9)                 297       \n",
      "                                                                 \n",
      " dropout_3 (Dropout)         (None, 9)                 0         \n",
      "                                                                 \n",
      " activation_1 (Activation)   (None, 9)                 0         \n",
      "                                                                 \n",
      "=================================================================\n",
      "Total params: 845,421\n",
      "Trainable params: 845,421\n",
      "Non-trainable params: 0\n",
      "_________________________________________________________________\n"
     ]
    }
   ],
   "source": [
    "# 配置网络结构\n",
    "def build_netword(num_vocabs):\n",
    "    # 配置网络结构\n",
    "    model = Sequential()\n",
    "    model.add(Embedding(num_vocabs, embedding_size, input_length=txt_lenth)) # Embedding层为输入的词汇找到对应的向量    \n",
    "    model.add(LSTM(32, dropout=0.2, recurrent_dropout=0.2)) # LSTM层    \n",
    "    model.add(Dense(9)) # Dense层\n",
    "    model.add(Dropout(0.05)) # Dropout层减轻过拟合\n",
    "    model.add(Activation(\"softmax\"))\n",
    "    model.compile(loss=\"categorical_crossentropy\", optimizer=\"adam\", metrics=[\"accuracy\"]) # 输出层\n",
    "\n",
    "    return model\n",
    "  \n",
    "model = build_netword(num_vocabs=vocab_size)\n",
    "model.summary()"
   ]
  },
  {
   "cell_type": "code",
   "execution_count": 30,
   "metadata": {},
   "outputs": [
    {
     "name": "stdout",
     "output_type": "stream",
     "text": [
      "Epoch 1/20\n",
      "320/320 [==============================] - ETA: 0s - loss: 1.8882 - accuracy: 0.2996\n",
      "Epoch 00001: val_accuracy improved from -inf to 0.43567, saving model to best_model_new.h5\n",
      "320/320 [==============================] - 16s 31ms/step - loss: 1.8882 - accuracy: 0.2996 - val_loss: 1.5686 - val_accuracy: 0.4357\n",
      "Epoch 2/20\n",
      "319/320 [============================>.] - ETA: 0s - loss: 1.4131 - accuracy: 0.5091\n",
      "Epoch 00002: val_accuracy improved from 0.43567 to 0.51645, saving model to best_model_new.h5\n",
      "320/320 [==============================] - 9s 29ms/step - loss: 1.4129 - accuracy: 0.5092 - val_loss: 1.4306 - val_accuracy: 0.5164\n",
      "Epoch 3/20\n",
      "320/320 [==============================] - ETA: 0s - loss: 1.1364 - accuracy: 0.6220\n",
      "Epoch 00003: val_accuracy improved from 0.51645 to 0.53166, saving model to best_model_new.h5\n",
      "320/320 [==============================] - 8s 26ms/step - loss: 1.1364 - accuracy: 0.6220 - val_loss: 1.4160 - val_accuracy: 0.5317\n",
      "Epoch 4/20\n",
      "320/320 [==============================] - ETA: 0s - loss: 0.9386 - accuracy: 0.6956\n",
      "Epoch 00004: val_accuracy did not improve from 0.53166\n",
      "320/320 [==============================] - 10s 30ms/step - loss: 0.9386 - accuracy: 0.6956 - val_loss: 1.4999 - val_accuracy: 0.5216\n",
      "Epoch 5/20\n",
      "319/320 [============================>.] - ETA: 0s - loss: 0.8058 - accuracy: 0.7410\n",
      "Epoch 00005: val_accuracy did not improve from 0.53166\n",
      "320/320 [==============================] - 9s 29ms/step - loss: 0.8058 - accuracy: 0.7410 - val_loss: 1.5643 - val_accuracy: 0.5126\n",
      "Epoch 6/20\n",
      "319/320 [============================>.] - ETA: 0s - loss: 0.6998 - accuracy: 0.7785\n",
      "Epoch 00006: val_accuracy did not improve from 0.53166\n",
      "320/320 [==============================] - 9s 29ms/step - loss: 0.7001 - accuracy: 0.7784 - val_loss: 1.6285 - val_accuracy: 0.4974\n",
      "Epoch 7/20\n",
      "319/320 [============================>.] - ETA: 0s - loss: 0.6202 - accuracy: 0.8031\n",
      "Epoch 00007: val_accuracy did not improve from 0.53166\n",
      "320/320 [==============================] - 9s 29ms/step - loss: 0.6201 - accuracy: 0.8032 - val_loss: 1.7361 - val_accuracy: 0.4972\n",
      "Epoch 8/20\n",
      "319/320 [============================>.] - ETA: 0s - loss: 0.5604 - accuracy: 0.8213\n",
      "Epoch 00008: val_accuracy did not improve from 0.53166\n",
      "320/320 [==============================] - 9s 29ms/step - loss: 0.5605 - accuracy: 0.8213 - val_loss: 1.8256 - val_accuracy: 0.4923\n",
      "Epoch 9/20\n",
      "320/320 [==============================] - ETA: 0s - loss: 0.5003 - accuracy: 0.8466\n",
      "Epoch 00009: val_accuracy did not improve from 0.53166\n",
      "320/320 [==============================] - 9s 29ms/step - loss: 0.5003 - accuracy: 0.8466 - val_loss: 1.9377 - val_accuracy: 0.4883\n",
      "Epoch 10/20\n",
      "320/320 [==============================] - ETA: 0s - loss: 0.4588 - accuracy: 0.8575\n",
      "Epoch 00010: val_accuracy did not improve from 0.53166\n",
      "320/320 [==============================] - 9s 29ms/step - loss: 0.4588 - accuracy: 0.8575 - val_loss: 2.0008 - val_accuracy: 0.4858\n",
      "Epoch 11/20\n",
      "319/320 [============================>.] - ETA: 0s - loss: 0.4319 - accuracy: 0.8654\n",
      "Epoch 00011: val_accuracy did not improve from 0.53166\n",
      "320/320 [==============================] - 9s 29ms/step - loss: 0.4318 - accuracy: 0.8655 - val_loss: 2.1153 - val_accuracy: 0.4847\n",
      "Epoch 12/20\n",
      "320/320 [==============================] - ETA: 0s - loss: 0.3981 - accuracy: 0.8782 ETA: 0s - los\n",
      "Epoch 00012: val_accuracy did not improve from 0.53166\n",
      "320/320 [==============================] - 9s 29ms/step - loss: 0.3981 - accuracy: 0.8782 - val_loss: 2.1411 - val_accuracy: 0.4813\n",
      "Epoch 13/20\n",
      "319/320 [============================>.] - ETA: 0s - loss: 0.3748 - accuracy: 0.8849\n",
      "Epoch 00013: val_accuracy did not improve from 0.53166\n",
      "320/320 [==============================] - 9s 29ms/step - loss: 0.3748 - accuracy: 0.8849 - val_loss: 2.2509 - val_accuracy: 0.4820\n",
      "Epoch 14/20\n",
      "319/320 [============================>.] - ETA: 0s - loss: 0.3548 - accuracy: 0.8906\n",
      "Epoch 00014: val_accuracy did not improve from 0.53166\n",
      "320/320 [==============================] - 9s 29ms/step - loss: 0.3550 - accuracy: 0.8906 - val_loss: 2.3732 - val_accuracy: 0.4724\n",
      "Epoch 15/20\n",
      "320/320 [==============================] - ETA: 0s - loss: 0.3408 - accuracy: 0.8921\n",
      "Epoch 00015: val_accuracy did not improve from 0.53166\n",
      "320/320 [==============================] - 9s 29ms/step - loss: 0.3408 - accuracy: 0.8921 - val_loss: 2.3892 - val_accuracy: 0.4737\n",
      "Epoch 16/20\n",
      "320/320 [==============================] - ETA: 0s - loss: 0.3216 - accuracy: 0.8984\n",
      "Epoch 00016: val_accuracy did not improve from 0.53166\n",
      "320/320 [==============================] - 9s 29ms/step - loss: 0.3216 - accuracy: 0.8984 - val_loss: 2.5142 - val_accuracy: 0.4697\n",
      "Epoch 17/20\n",
      "320/320 [==============================] - ETA: 0s - loss: 0.2993 - accuracy: 0.9080\n",
      "Epoch 00017: val_accuracy did not improve from 0.53166\n",
      "320/320 [==============================] - 9s 28ms/step - loss: 0.2993 - accuracy: 0.9080 - val_loss: 2.5742 - val_accuracy: 0.4704\n",
      "Epoch 18/20\n",
      "319/320 [============================>.] - ETA: 0s - loss: 0.2851 - accuracy: 0.9120\n",
      "Epoch 00018: val_accuracy did not improve from 0.53166\n",
      "320/320 [==============================] - 9s 29ms/step - loss: 0.2850 - accuracy: 0.9120 - val_loss: 2.6643 - val_accuracy: 0.4618\n",
      "Epoch 19/20\n",
      "320/320 [==============================] - ETA: 0s - loss: 0.2667 - accuracy: 0.9167\n",
      "Epoch 00019: val_accuracy did not improve from 0.53166\n",
      "320/320 [==============================] - 9s 29ms/step - loss: 0.2667 - accuracy: 0.9167 - val_loss: 2.7758 - val_accuracy: 0.4527\n",
      "Epoch 20/20\n",
      "320/320 [==============================] - ETA: 0s - loss: 0.2662 - accuracy: 0.9138\n",
      "Epoch 00020: val_accuracy did not improve from 0.53166\n",
      "320/320 [==============================] - 9s 28ms/step - loss: 0.2662 - accuracy: 0.9138 - val_loss: 2.7356 - val_accuracy: 0.4625\n"
     ]
    }
   ],
   "source": [
    "# 训练模型\n",
    "from keras.callbacks import ModelCheckpoint\n",
    "mc = ModelCheckpoint('best_model_new.h5', monitor='val_accuracy', mode='max', verbose=1, save_best_only=True)\n",
    "# 设置CheckPoint，保存测试精度最优的模型\n",
    "history1 = model.fit(text_digit, Y, validation_split = 0.2,batch_size=56, epochs=20, callbacks=[mc])"
   ]
  },
  {
   "cell_type": "code",
   "execution_count": 31,
   "metadata": {},
   "outputs": [
    {
     "data": {
      "image/png": "[encoded data removed]",
      "text/plain": [
       "<Figure size 432x288 with 1 Axes>"
      ]
     },
     "metadata": {
      "needs_background": "light"
     },
     "output_type": "display_data"
    }
   ],
   "source": [
    "import matplotlib.pyplot as plt\n",
    "plt.plot(history1.history['accuracy'])  \n",
    "plt.plot(history1.history['val_accuracy'])  \n",
    "plt.title('Accuracy') # 标题\n",
    "plt.ylabel('accuracy') # x轴为epoch，y轴为loss\n",
    "plt.xlabel('epoch')\n",
    "plt.xlim(0, 20) \n",
    "plt.ylim(0, 1.0) \n",
    "plt.legend(['train','val'], loc='upper right') # 表明图例\n",
    "plt.show() # 展示图片"
   ]
  },
  {
   "cell_type": "markdown",
   "metadata": {},
   "source": [
    "* 模型精度在最初训练时提升很快，之后保持在50%左右。\n",
    "* 可能的原因在于数据集，首先数据数量为2万条，有很多扩充的空间。\n",
    "* 对不同的心理咨询问题打出判断的标签，与传统的文本分析不同，具有一定的主观性和模糊性，许多时候判断结果与句子中的关键词的联系比较弱。更多在于句子的内在的逻辑和隐含意思。"
   ]
  },
  {
   "cell_type": "code",
   "execution_count": 32,
   "metadata": {},
   "outputs": [
    {
     "data": {
      "image/png": "[encoded data removed]",
      "text/plain": [
       "<Figure size 432x288 with 1 Axes>"
      ]
     },
     "metadata": {
      "needs_background": "light"
     },
     "output_type": "display_data"
    }
   ],
   "source": [
    "plt.plot(history1.history['loss'])  \n",
    "plt.plot(history1.history['val_loss'])  \n",
    "plt.title('Loss') # 标题\n",
    "plt.ylabel('loss') # x轴为epoch，y轴为loss\n",
    "plt.xlabel('epoch')\n",
    "plt.xlim(0, 20) \n",
    "plt.ylim(0, 3)\n",
    "plt.legend(['train','val'], loc='upper right') # 表明图例\n",
    "plt.show() # 展示图片"
   ]
  },
  {
   "cell_type": "markdown",
   "metadata": {},
   "source": [
    "### 模型对比"
   ]
  },
  {
   "cell_type": "code",
   "execution_count": 50,
   "metadata": {},
   "outputs": [
    {
     "data": {
      "image/png": "[encoded data removed]",
      "text/plain": [
       "<Figure size 432x288 with 1 Axes>"
      ]
     },
     "metadata": {
      "needs_background": "light"
     },
     "output_type": "display_data"
    }
   ],
   "source": [
    "plt.plot(history1.history['val_accuracy'])   \n",
    "plt.plot(history2.history['val_accuracy'])  \n",
    "plt.title('Accuracy') # 标题\n",
    "plt.ylabel('accuracy') # x轴为epoch，y轴为loss\n",
    "plt.xlabel('epoch')\n",
    "plt.xlim(0, 20) \n",
    "plt.ylim(0, 1.0) \n",
    "plt.legend(['simple','complex'], loc='upper right') # 表明图例\n",
    "plt.show() # 展示图片"
   ]
  },
  {
   "cell_type": "markdown",
   "metadata": {},
   "source": [
    "对于这个问题，使用简单LSTM的模型预测效果略高于带有Attention机制的双向LSTM模型"
   ]
  },
  {
   "cell_type": "code",
   "execution_count": 33,
   "metadata": {},
   "outputs": [],
   "source": [
    "#保存模型\n",
    "model.save(\"best_model_new.h5\") \n",
    "\n",
    "# 加载预训练的模型\n",
    "# model.load_weights(\"best_model_new.h5\")"
   ]
  },
  {
   "cell_type": "code",
   "execution_count": 34,
   "metadata": {},
   "outputs": [],
   "source": [
    "def predictor(sen):\n",
    "    global txt_lenth\n",
    "    sen_prosessed = sen.replace('，', '')\n",
    "    sen_prosessed = sen_prosessed.replace('？', '')\n",
    "    sen_prosessed = \".\".join(jb.cut(sen_prosessed, cut_all=True))\n",
    "    sen_prosessed = tokenizer.texts_to_sequences(sen_prosessed)\n",
    "    sen_prosessed = pad_sequences(sen_prosessed, maxlen=txt_lenth, padding='post')\n",
    "    result = model.predict(sen_prosessed)\n",
    "    catalogue = list(result[0]).index(max(result[0]))\n",
    "    threshold=0.8\n",
    "    print(classes[catalogue])"
   ]
  },
  {
   "cell_type": "code",
   "execution_count": 35,
   "metadata": {},
   "outputs": [
    {
     "name": "stdout",
     "output_type": "stream",
     "text": [
      "行为\n"
     ]
    }
   ],
   "source": [
    "sen = \"高四社恐该不该分心去交点朋友还是就保持高冷\"\n",
    "predictor(sen)"
   ]
  }
 ],
 "metadata": {
  "kernelspec": {
   "display_name": "Python 3",
   "language": "python",
   "name": "python3"
  },
  "language_info": {
   "codemirror_mode": {
    "name": "ipython",
    "version": 3
   },
   "file_extension": ".py",
   "mimetype": "text/x-python",
   "name": "python",
   "nbconvert_exporter": "python",
   "pygments_lexer": "ipython3",
   "version": "3.7.0"
  }
 },
 "nbformat": 4,
 "nbformat_minor": 5
}
