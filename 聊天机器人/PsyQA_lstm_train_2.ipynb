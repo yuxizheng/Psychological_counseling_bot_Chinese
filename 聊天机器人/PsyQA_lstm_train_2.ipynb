{
 "cells": [
  {
   "cell_type": "markdown",
   "metadata": {},
   "source": [
    "## 基于字符的心理问题聊天机器人：预训练后第二次训练"
   ]
  },
  {
   "cell_type": "markdown",
   "metadata": {},
   "source": [
    "### 读入数据"
   ]
  },
  {
   "cell_type": "code",
   "execution_count": 1,
   "metadata": {
    "scrolled": true
   },
   "outputs": [
    {
     "data": {
      "text/html": [
       "<div>\n",
       "<style scoped>\n",
       "    .dataframe tbody tr th:only-of-type {\n",
       "        vertical-align: middle;\n",
       "    }\n",
       "\n",
       "    .dataframe tbody tr th {\n",
       "        vertical-align: top;\n",
       "    }\n",
       "\n",
       "    .dataframe thead th {\n",
       "        text-align: right;\n",
       "    }\n",
       "</style>\n",
       "<table border=\"1\" class=\"dataframe\">\n",
       "  <thead>\n",
       "    <tr style=\"text-align: right;\">\n",
       "      <th></th>\n",
       "      <th>question</th>\n",
       "      <th>description</th>\n",
       "      <th>keywords</th>\n",
       "      <th>answer_text</th>\n",
       "    </tr>\n",
       "  </thead>\n",
       "  <tbody>\n",
       "    <tr>\n",
       "      <th>0</th>\n",
       "      <td>高三后的迷茫，高考前的恐惧，能给我一些建议么？</td>\n",
       "      <td>现在的我，感觉就像是从自己出生以来就是多余的，我就不应该出现在这个世界，现在就读高三的我，面...</td>\n",
       "      <td>成长,压力管理,工作学习,学生成长</td>\n",
       "      <td>抱抱~看到你的提问感觉你很焦虑，这个状态在高中高压下很容易出现。我想说的是，我看到了你的决心...</td>\n",
       "    </tr>\n",
       "    <tr>\n",
       "      <th>1</th>\n",
       "      <td>察觉到一种模式，我总喜欢自己检讨、批评自己？</td>\n",
       "      <td>我和我妈妈讲话会陷入一种很恶心的模式。我只要说遇到的烦恼她是无动于衷的，但是我一旦开始批评自...</td>\n",
       "      <td>家庭,家庭创伤,成长过程,家人控制</td>\n",
       "      <td>楼主你好，看到你习惯性检讨自己，批评自己，我感到很心疼。看到你这种模式会出现在和妈妈的对话中...</td>\n",
       "    </tr>\n",
       "    <tr>\n",
       "      <th>2</th>\n",
       "      <td>高四，社恐，该不该分心去交点朋友，还是就保持高冷？</td>\n",
       "      <td>社恐挺严重，不喜欢离开舒适区，感觉和陌生同学交流需要很大勇气。我是应该认真学习独来独往，还是...</td>\n",
       "      <td>人际,社交恐惧</td>\n",
       "      <td>楼主你好，看到你在犹豫要不要交朋友。高四的你应该是去到了完全陌生的班级，他们已经有自己的朋友...</td>\n",
       "    </tr>\n",
       "    <tr>\n",
       "      <th>3</th>\n",
       "      <td>心里其实是很抗拒的，怎么提高执行力？</td>\n",
       "      <td>想做的事情很多，一直在想却没有行动，怎么才能让自己行动起来呢？心里其实是很抗拒的，但是怎么才...</td>\n",
       "      <td>成长,自我成长,人生意义</td>\n",
       "      <td>楼主你好，看到你有很多想做的事情，但是却没有行动起来。对自己没有行动这件事，内心也是很抗拒的...</td>\n",
       "    </tr>\n",
       "    <tr>\n",
       "      <th>4</th>\n",
       "      <td>新初中生，总是和妈妈闹矛盾，但又做不出行动怎么办？</td>\n",
       "      <td>长大了总喜欢跟家长顶嘴妈妈总说我顶嘴顶的很没道理但是憋着我也很不爽。妈妈很为我的学业担忧才初...</td>\n",
       "      <td>成长,自我成长,自我接纳,学生成长</td>\n",
       "      <td>题主，你好，抱抱你呀～看了你的描述，你很不想影响到妈妈心情，但是在无意中挑起了争端，真的很能...</td>\n",
       "    </tr>\n",
       "  </tbody>\n",
       "</table>\n",
       "</div>"
      ],
      "text/plain": [
       "                    question  \\\n",
       "0    高三后的迷茫，高考前的恐惧，能给我一些建议么？   \n",
       "1     察觉到一种模式，我总喜欢自己检讨、批评自己？   \n",
       "2  高四，社恐，该不该分心去交点朋友，还是就保持高冷？   \n",
       "3         心里其实是很抗拒的，怎么提高执行力？   \n",
       "4  新初中生，总是和妈妈闹矛盾，但又做不出行动怎么办？   \n",
       "\n",
       "                                         description           keywords  \\\n",
       "0  现在的我，感觉就像是从自己出生以来就是多余的，我就不应该出现在这个世界，现在就读高三的我，面...  成长,压力管理,工作学习,学生成长   \n",
       "1  我和我妈妈讲话会陷入一种很恶心的模式。我只要说遇到的烦恼她是无动于衷的，但是我一旦开始批评自...  家庭,家庭创伤,成长过程,家人控制   \n",
       "2  社恐挺严重，不喜欢离开舒适区，感觉和陌生同学交流需要很大勇气。我是应该认真学习独来独往，还是...            人际,社交恐惧   \n",
       "3  想做的事情很多，一直在想却没有行动，怎么才能让自己行动起来呢？心里其实是很抗拒的，但是怎么才...       成长,自我成长,人生意义   \n",
       "4  长大了总喜欢跟家长顶嘴妈妈总说我顶嘴顶的很没道理但是憋着我也很不爽。妈妈很为我的学业担忧才初...  成长,自我成长,自我接纳,学生成长   \n",
       "\n",
       "                                         answer_text  \n",
       "0  抱抱~看到你的提问感觉你很焦虑，这个状态在高中高压下很容易出现。我想说的是，我看到了你的决心...  \n",
       "1  楼主你好，看到你习惯性检讨自己，批评自己，我感到很心疼。看到你这种模式会出现在和妈妈的对话中...  \n",
       "2  楼主你好，看到你在犹豫要不要交朋友。高四的你应该是去到了完全陌生的班级，他们已经有自己的朋友...  \n",
       "3  楼主你好，看到你有很多想做的事情，但是却没有行动起来。对自己没有行动这件事，内心也是很抗拒的...  \n",
       "4  题主，你好，抱抱你呀～看了你的描述，你很不想影响到妈妈心情，但是在无意中挑起了争端，真的很能...  "
      ]
     },
     "execution_count": 1,
     "metadata": {},
     "output_type": "execute_result"
    }
   ],
   "source": [
    "import pandas as pd\n",
    "df = pd.read_csv('/mnt/PsyQA.csv')\n",
    "df.head()"
   ]
  },
  {
   "cell_type": "markdown",
   "metadata": {},
   "source": [
    "### 数据预处理"
   ]
  },
  {
   "cell_type": "code",
   "execution_count": 2,
   "metadata": {},
   "outputs": [],
   "source": [
    "input_texts, target_texts = [], [] #输入、输出文本\n",
    "input_vocabulary = set() #输入字典\n",
    "output_vocabulary = set() #输出字典\n",
    "start_token = '\\t' #起始符\n",
    "stop_token = '\\n' #终止符\n",
    "max_training_samples = min(25000, len(df)-1)"
   ]
  },
  {
   "cell_type": "code",
   "execution_count": 3,
   "metadata": {},
   "outputs": [],
   "source": [
    "for input_text, target_text in zip(df.question, df.answer_text):\n",
    "    target_text = start_token + target_text[:50] + stop_token #内存限制，只取前50个字作为回答\n",
    "    input_texts.append(input_text)\n",
    "    target_texts.append(target_text)\n",
    "    for char in input_text:\n",
    "        if char not in input_vocabulary:\n",
    "            input_vocabulary.add(char) #输入字典加入新字\n",
    "    for char in target_text:\n",
    "        if char not in output_vocabulary:\n",
    "            output_vocabulary.add(char) #输出字典加入新字"
   ]
  },
  {
   "cell_type": "code",
   "execution_count": 4,
   "metadata": {},
   "outputs": [],
   "source": [
    "#排序\n",
    "input_vocabulary = sorted(input_vocabulary)\n",
    "output_vocabulary = sorted(output_vocabulary)\n",
    "#长度/尺寸\n",
    "input_vocab_size = len(input_vocabulary)\n",
    "output_vocab_size = len(output_vocabulary)\n",
    "#encoder和decoder输入的最大长度\n",
    "max_encoder_seq_length = max([len(txt) for txt in input_texts])\n",
    "max_decoder_seq_length = max([len(txt) for txt in target_texts])\n",
    "#每个字到索引index的字典\n",
    "input_token_index = dict([(char, i) for i, char in enumerate(input_vocabulary)])\n",
    "target_token_index = dict([(char, i) for i, char in enumerate(output_vocabulary)])\n",
    "#由index定位到字的字典\n",
    "reverse_input_char_index = dict((i, char) for char, i in input_token_index.items())\n",
    "reverse_target_char_index = dict((i, char) for char, i in target_token_index.items())"
   ]
  },
  {
   "cell_type": "code",
   "execution_count": 5,
   "metadata": {},
   "outputs": [],
   "source": [
    "#构造字符级序列编码-解码训练集\n",
    "import numpy as np\n",
    "#0填充\n",
    "encoder_input_data = np.zeros((len(input_texts), max_encoder_seq_length, input_vocab_size), dtype='float32')\n",
    "decoder_input_data = np.zeros((len(input_texts), max_decoder_seq_length, output_vocab_size), dtype='float32')\n",
    "decoder_target_data = np.zeros((len(input_texts), max_decoder_seq_length, output_vocab_size), dtype='float32')\n",
    "for i, (input_text, target_text) in enumerate(zip(input_texts, target_texts)):\n",
    "    for t, char in enumerate(input_text):\n",
    "        encoder_input_data[i, t, input_token_index[char]] = 1\n",
    "    for t, char in enumerate(target_text):\n",
    "        decoder_input_data[i, t, target_token_index[char]] = 1\n",
    "        if t>0:\n",
    "            decoder_target_data[i, t-1, target_token_index[char]] = 1"
   ]
  },
  {
   "cell_type": "markdown",
   "metadata": {},
   "source": [
    "### 建立基于lstm的seq2seq模型"
   ]
  },
  {
   "cell_type": "code",
   "execution_count": 6,
   "metadata": {},
   "outputs": [
    {
     "name": "stdout",
     "output_type": "stream",
     "text": [
      "Model: \"model\"\n",
      "__________________________________________________________________________________________________\n",
      "Layer (type)                    Output Shape         Param #     Connected to                     \n",
      "==================================================================================================\n",
      "input_1 (InputLayer)            [(None, None, 2825)] 0                                            \n",
      "__________________________________________________________________________________________________\n",
      "input_2 (InputLayer)            [(None, None, 3417)] 0                                            \n",
      "__________________________________________________________________________________________________\n",
      "lstm (LSTM)                     [(None, 256), (None, 3155968     input_1[0][0]                    \n",
      "__________________________________________________________________________________________________\n",
      "lstm_1 (LSTM)                   [(None, None, 256),  3762176     input_2[0][0]                    \n",
      "                                                                 lstm[0][1]                       \n",
      "                                                                 lstm[0][2]                       \n",
      "__________________________________________________________________________________________________\n",
      "dense (Dense)                   (None, None, 3417)   878169      lstm_1[0][0]                     \n",
      "==================================================================================================\n",
      "Total params: 7,796,313\n",
      "Trainable params: 7,796,313\n",
      "Non-trainable params: 0\n",
      "__________________________________________________________________________________________________\n"
     ]
    }
   ],
   "source": [
    "import tensorflow\n",
    "from tensorflow.compat.v1 import keras\n",
    "batch_size = 100\n",
    "epochs = 100\n",
    "num_neurons = 256\n",
    "encoder_inputs = keras.layers.Input(shape = (None, input_vocab_size)) \n",
    "encoder = keras.layers.LSTM(num_neurons, return_state=True)\n",
    "encoder_outputs, state_h, state_c = encoder(encoder_inputs)\n",
    "encoder_states = [state_h, state_c] #思想向量\n",
    "decoder_inputs = keras.layers.Input(shape=(None, output_vocab_size))\n",
    "decoder_lstm = keras.layers.LSTM(num_neurons, return_sequences=True, return_state=True)\n",
    "decoder_outputs, _, _ = decoder_lstm(decoder_inputs, initial_state=encoder_states) #状态初始化为encoder的思想向量，之后不断更新\n",
    "decoder_dense = keras.layers.Dense(output_vocab_size, activation='softmax') \n",
    "decoder_outputs = decoder_dense(decoder_outputs)\n",
    "model = keras.models.Model([encoder_inputs, decoder_inputs], decoder_outputs)\n",
    "model.compile(optimizer=tensorflow.optimizers.RMSprop(lr=0.001), loss='categorical_crossentropy', metrics=['acc'])\n",
    "model.summary()"
   ]
  },
  {
   "cell_type": "markdown",
   "metadata": {},
   "source": [
    "### 模型继续训练"
   ]
  },
  {
   "cell_type": "code",
   "execution_count": 7,
   "metadata": {},
   "outputs": [],
   "source": [
    "model.load_weights(\"PsyQA_lstm_50_weights_1.h5\") #上一次训练的权重"
   ]
  },
  {
   "cell_type": "code",
   "execution_count": 8,
   "metadata": {
    "scrolled": false
   },
   "outputs": [
    {
     "name": "stdout",
     "output_type": "stream",
     "text": [
      "Train on 20106 samples, validate on 2235 samples\n",
      "Epoch 1/200\n",
      "20106/20106 [==============================] - 61s 3ms/sample - loss: 1.3860 - acc: 0.6680 - val_loss: 4.4899 - val_acc: 0.3480\n",
      "Epoch 2/200\n",
      "20106/20106 [==============================] - 56s 3ms/sample - loss: 1.3730 - acc: 0.6715 - val_loss: 4.5072 - val_acc: 0.3433\n",
      "Epoch 3/200\n",
      "20106/20106 [==============================] - 56s 3ms/sample - loss: 1.3697 - acc: 0.6726 - val_loss: 4.5163 - val_acc: 0.3463\n",
      "Epoch 4/200\n",
      "20106/20106 [==============================] - 57s 3ms/sample - loss: 1.3687 - acc: 0.6726 - val_loss: 4.4864 - val_acc: 0.3443\n",
      "Epoch 5/200\n",
      "20106/20106 [==============================] - 57s 3ms/sample - loss: 1.3669 - acc: 0.6728 - val_loss: 4.5077 - val_acc: 0.3484\n",
      "Epoch 6/200\n",
      "20106/20106 [==============================] - 58s 3ms/sample - loss: 1.3648 - acc: 0.6733 - val_loss: 4.4928 - val_acc: 0.3481\n",
      "Epoch 7/200\n",
      "20106/20106 [==============================] - 57s 3ms/sample - loss: 1.3633 - acc: 0.6735 - val_loss: 4.5569 - val_acc: 0.3451\n",
      "Epoch 8/200\n",
      "20106/20106 [==============================] - 58s 3ms/sample - loss: 1.3615 - acc: 0.6741 - val_loss: 4.5584 - val_acc: 0.3440\n",
      "Epoch 9/200\n",
      "20106/20106 [==============================] - 58s 3ms/sample - loss: 1.3597 - acc: 0.6743 - val_loss: 4.5408 - val_acc: 0.3429\n",
      "Epoch 10/200\n",
      "20106/20106 [==============================] - 57s 3ms/sample - loss: 1.3574 - acc: 0.6750 - val_loss: 4.5318 - val_acc: 0.3445\n",
      "Epoch 11/200\n",
      "20106/20106 [==============================] - 57s 3ms/sample - loss: 1.3564 - acc: 0.6753 - val_loss: 4.5366 - val_acc: 0.3420\n",
      "Epoch 12/200\n",
      "20106/20106 [==============================] - 58s 3ms/sample - loss: 1.3549 - acc: 0.6757 - val_loss: 4.5466 - val_acc: 0.3462\n",
      "Epoch 13/200\n",
      "20106/20106 [==============================] - 57s 3ms/sample - loss: 1.3536 - acc: 0.6757 - val_loss: 4.5815 - val_acc: 0.3394\n",
      "Epoch 14/200\n",
      "20106/20106 [==============================] - 58s 3ms/sample - loss: 1.3518 - acc: 0.6761 - val_loss: 4.5798 - val_acc: 0.3432\n",
      "Epoch 15/200\n",
      "20106/20106 [==============================] - 58s 3ms/sample - loss: 1.3503 - acc: 0.6766 - val_loss: 4.5443 - val_acc: 0.3466\n",
      "Epoch 16/200\n",
      "20106/20106 [==============================] - 57s 3ms/sample - loss: 1.3486 - acc: 0.6768 - val_loss: 4.5417 - val_acc: 0.3498\n",
      "Epoch 17/200\n",
      "20106/20106 [==============================] - 57s 3ms/sample - loss: 1.3477 - acc: 0.6766 - val_loss: 4.5303 - val_acc: 0.3453\n",
      "Epoch 18/200\n",
      "20106/20106 [==============================] - 58s 3ms/sample - loss: 1.3461 - acc: 0.6774 - val_loss: 4.5521 - val_acc: 0.3446\n",
      "Epoch 19/200\n",
      "20106/20106 [==============================] - 57s 3ms/sample - loss: 1.3434 - acc: 0.6779 - val_loss: 4.5926 - val_acc: 0.3427\n",
      "Epoch 20/200\n",
      "20106/20106 [==============================] - 57s 3ms/sample - loss: 1.3431 - acc: 0.6777 - val_loss: 4.5536 - val_acc: 0.3461\n",
      "Epoch 21/200\n",
      "20106/20106 [==============================] - 58s 3ms/sample - loss: 1.3406 - acc: 0.6784 - val_loss: 4.5710 - val_acc: 0.3478\n",
      "Epoch 22/200\n",
      "20106/20106 [==============================] - 57s 3ms/sample - loss: 1.3393 - acc: 0.6789 - val_loss: 4.5610 - val_acc: 0.3438\n",
      "Epoch 23/200\n",
      "20106/20106 [==============================] - 57s 3ms/sample - loss: 1.3384 - acc: 0.6789 - val_loss: 4.5680 - val_acc: 0.3441\n",
      "Epoch 24/200\n",
      "20106/20106 [==============================] - 57s 3ms/sample - loss: 1.3365 - acc: 0.6791 - val_loss: 4.5479 - val_acc: 0.3475\n",
      "Epoch 25/200\n",
      "20106/20106 [==============================] - 58s 3ms/sample - loss: 1.3347 - acc: 0.6796 - val_loss: 4.6536 - val_acc: 0.3390\n",
      "Epoch 26/200\n",
      "20106/20106 [==============================] - 57s 3ms/sample - loss: 1.3335 - acc: 0.6799 - val_loss: 4.5708 - val_acc: 0.3460\n",
      "Epoch 27/200\n",
      "20106/20106 [==============================] - 57s 3ms/sample - loss: 1.3323 - acc: 0.6799 - val_loss: 4.5751 - val_acc: 0.3421\n",
      "Epoch 28/200\n",
      "20106/20106 [==============================] - 57s 3ms/sample - loss: 1.3294 - acc: 0.6808 - val_loss: 4.6079 - val_acc: 0.3436\n",
      "Epoch 29/200\n",
      "20106/20106 [==============================] - 57s 3ms/sample - loss: 1.3286 - acc: 0.6810 - val_loss: 4.5734 - val_acc: 0.3454\n",
      "Epoch 30/200\n",
      "20106/20106 [==============================] - 57s 3ms/sample - loss: 1.3281 - acc: 0.6810 - val_loss: 4.6122 - val_acc: 0.3427\n",
      "Epoch 31/200\n",
      "20106/20106 [==============================] - 58s 3ms/sample - loss: 1.3258 - acc: 0.6815 - val_loss: 4.6184 - val_acc: 0.3432\n",
      "Epoch 32/200\n",
      "20106/20106 [==============================] - 57s 3ms/sample - loss: 1.3242 - acc: 0.6816 - val_loss: 4.5877 - val_acc: 0.3439\n",
      "Epoch 33/200\n",
      "20106/20106 [==============================] - 57s 3ms/sample - loss: 1.3224 - acc: 0.6823 - val_loss: 4.6138 - val_acc: 0.3431\n",
      "Epoch 34/200\n",
      "20106/20106 [==============================] - 57s 3ms/sample - loss: 1.3216 - acc: 0.6823 - val_loss: 4.6171 - val_acc: 0.3434\n",
      "Epoch 35/200\n",
      "20106/20106 [==============================] - 57s 3ms/sample - loss: 1.3201 - acc: 0.6830 - val_loss: 4.6279 - val_acc: 0.3416\n",
      "Epoch 36/200\n",
      "20106/20106 [==============================] - 57s 3ms/sample - loss: 1.3191 - acc: 0.6831 - val_loss: 4.6425 - val_acc: 0.3439\n",
      "Epoch 37/200\n",
      "20106/20106 [==============================] - 57s 3ms/sample - loss: 1.3171 - acc: 0.6833 - val_loss: 4.5987 - val_acc: 0.3435\n",
      "Epoch 38/200\n",
      "20106/20106 [==============================] - 57s 3ms/sample - loss: 1.3159 - acc: 0.6833 - val_loss: 4.6104 - val_acc: 0.3480\n",
      "Epoch 39/200\n",
      "20106/20106 [==============================] - 57s 3ms/sample - loss: 1.3144 - acc: 0.6840 - val_loss: 4.6533 - val_acc: 0.3447\n",
      "Epoch 40/200\n",
      "20106/20106 [==============================] - 57s 3ms/sample - loss: 1.3127 - acc: 0.6844 - val_loss: 4.6844 - val_acc: 0.3410\n",
      "Epoch 41/200\n",
      "20106/20106 [==============================] - 58s 3ms/sample - loss: 1.3119 - acc: 0.6845 - val_loss: 4.6961 - val_acc: 0.3401\n",
      "Epoch 42/200\n",
      "20106/20106 [==============================] - 57s 3ms/sample - loss: 1.3095 - acc: 0.6849 - val_loss: 4.6353 - val_acc: 0.3452\n",
      "Epoch 43/200\n",
      "20106/20106 [==============================] - 57s 3ms/sample - loss: 1.3080 - acc: 0.6855 - val_loss: 4.6665 - val_acc: 0.3425\n",
      "Epoch 44/200\n",
      "20106/20106 [==============================] - 57s 3ms/sample - loss: 1.3075 - acc: 0.6853 - val_loss: 4.6801 - val_acc: 0.3387\n",
      "Epoch 45/200\n",
      "20106/20106 [==============================] - 57s 3ms/sample - loss: 1.3051 - acc: 0.6858 - val_loss: 4.6701 - val_acc: 0.3389\n",
      "Epoch 46/200\n",
      "20106/20106 [==============================] - 57s 3ms/sample - loss: 1.3038 - acc: 0.6861 - val_loss: 4.6595 - val_acc: 0.3421\n",
      "Epoch 47/200\n",
      "20106/20106 [==============================] - 57s 3ms/sample - loss: 1.3040 - acc: 0.6860 - val_loss: 4.6470 - val_acc: 0.3459\n",
      "Epoch 48/200\n",
      "20106/20106 [==============================] - 57s 3ms/sample - loss: 1.3016 - acc: 0.6867 - val_loss: 4.6676 - val_acc: 0.3391\n",
      "Epoch 49/200\n",
      "20106/20106 [==============================] - 57s 3ms/sample - loss: 1.3000 - acc: 0.6872 - val_loss: 4.6698 - val_acc: 0.3414\n",
      "Epoch 50/200\n",
      "20106/20106 [==============================] - 57s 3ms/sample - loss: 1.2986 - acc: 0.6871 - val_loss: 4.6992 - val_acc: 0.3411\n",
      "Epoch 51/200\n",
      "20106/20106 [==============================] - 57s 3ms/sample - loss: 1.2979 - acc: 0.6876 - val_loss: 4.6396 - val_acc: 0.3440\n",
      "Epoch 52/200\n",
      "20106/20106 [==============================] - 57s 3ms/sample - loss: 1.2970 - acc: 0.6873 - val_loss: 4.6764 - val_acc: 0.3438\n",
      "Epoch 53/200\n",
      "20106/20106 [==============================] - 57s 3ms/sample - loss: 1.2944 - acc: 0.6880 - val_loss: 4.6777 - val_acc: 0.3399\n",
      "Epoch 54/200\n",
      "20106/20106 [==============================] - 58s 3ms/sample - loss: 1.2934 - acc: 0.6885 - val_loss: 4.6635 - val_acc: 0.3431\n",
      "Epoch 55/200\n",
      "20106/20106 [==============================] - 57s 3ms/sample - loss: 1.2910 - acc: 0.6889 - val_loss: 4.6766 - val_acc: 0.3450\n",
      "Epoch 56/200\n",
      "20106/20106 [==============================] - 57s 3ms/sample - loss: 1.2911 - acc: 0.6890 - val_loss: 4.6892 - val_acc: 0.3436\n",
      "Epoch 57/200\n",
      "20106/20106 [==============================] - 57s 3ms/sample - loss: 1.2907 - acc: 0.6887 - val_loss: 4.6790 - val_acc: 0.3436\n",
      "Epoch 58/200\n",
      "20106/20106 [==============================] - 57s 3ms/sample - loss: 1.2879 - acc: 0.6895 - val_loss: 4.6897 - val_acc: 0.3393\n"
     ]
    },
    {
     "name": "stdout",
     "output_type": "stream",
     "text": [
      "Epoch 59/200\n",
      "20106/20106 [==============================] - 57s 3ms/sample - loss: 1.2876 - acc: 0.6892 - val_loss: 4.7133 - val_acc: 0.3432\n",
      "Epoch 60/200\n",
      "20106/20106 [==============================] - 56s 3ms/sample - loss: 1.2859 - acc: 0.6898 - val_loss: 4.7174 - val_acc: 0.3403\n",
      "Epoch 61/200\n",
      "20106/20106 [==============================] - 56s 3ms/sample - loss: 1.2842 - acc: 0.6903 - val_loss: 4.7249 - val_acc: 0.3359\n",
      "Epoch 62/200\n",
      "20106/20106 [==============================] - 56s 3ms/sample - loss: 1.2831 - acc: 0.6903 - val_loss: 4.6991 - val_acc: 0.3402\n",
      "Epoch 63/200\n",
      "20106/20106 [==============================] - 56s 3ms/sample - loss: 1.2818 - acc: 0.6908 - val_loss: 4.7317 - val_acc: 0.3384\n",
      "Epoch 64/200\n",
      "20106/20106 [==============================] - 56s 3ms/sample - loss: 1.2804 - acc: 0.6912 - val_loss: 4.6956 - val_acc: 0.3412\n",
      "Epoch 65/200\n",
      "20106/20106 [==============================] - 56s 3ms/sample - loss: 1.2792 - acc: 0.6911 - val_loss: 4.7708 - val_acc: 0.3363\n",
      "Epoch 66/200\n",
      "20106/20106 [==============================] - 56s 3ms/sample - loss: 1.2775 - acc: 0.6918 - val_loss: 4.7330 - val_acc: 0.3380\n",
      "Epoch 67/200\n",
      "20106/20106 [==============================] - 57s 3ms/sample - loss: 1.2766 - acc: 0.6918 - val_loss: 4.7245 - val_acc: 0.3405\n",
      "Epoch 68/200\n",
      "20106/20106 [==============================] - 57s 3ms/sample - loss: 1.2765 - acc: 0.6918 - val_loss: 4.7134 - val_acc: 0.3406\n",
      "Epoch 69/200\n",
      "20106/20106 [==============================] - 57s 3ms/sample - loss: 1.2735 - acc: 0.6927 - val_loss: 4.7178 - val_acc: 0.3394\n",
      "Epoch 70/200\n",
      "20106/20106 [==============================] - 57s 3ms/sample - loss: 1.2721 - acc: 0.6926 - val_loss: 4.7247 - val_acc: 0.3412\n",
      "Epoch 71/200\n",
      "20106/20106 [==============================] - 57s 3ms/sample - loss: 1.2710 - acc: 0.6927 - val_loss: 4.7454 - val_acc: 0.3390\n",
      "Epoch 72/200\n",
      "20106/20106 [==============================] - 57s 3ms/sample - loss: 1.2706 - acc: 0.6930 - val_loss: 4.7571 - val_acc: 0.3397\n",
      "Epoch 73/200\n",
      "20106/20106 [==============================] - 58s 3ms/sample - loss: 1.2690 - acc: 0.6933 - val_loss: 4.7223 - val_acc: 0.3438\n",
      "Epoch 74/200\n",
      "20106/20106 [==============================] - 57s 3ms/sample - loss: 1.2684 - acc: 0.6938 - val_loss: 4.7690 - val_acc: 0.3372\n",
      "Epoch 75/200\n",
      "20106/20106 [==============================] - 58s 3ms/sample - loss: 1.2668 - acc: 0.6938 - val_loss: 4.7666 - val_acc: 0.3415\n",
      "Epoch 76/200\n",
      "20106/20106 [==============================] - 57s 3ms/sample - loss: 1.2656 - acc: 0.6940 - val_loss: 4.7774 - val_acc: 0.3394\n",
      "Epoch 77/200\n",
      "20106/20106 [==============================] - 57s 3ms/sample - loss: 1.2647 - acc: 0.6943 - val_loss: 4.7934 - val_acc: 0.3383\n",
      "Epoch 78/200\n",
      "20106/20106 [==============================] - 57s 3ms/sample - loss: 1.2638 - acc: 0.6943 - val_loss: 4.7405 - val_acc: 0.3407\n",
      "Epoch 79/200\n",
      "20106/20106 [==============================] - 57s 3ms/sample - loss: 1.2622 - acc: 0.6947 - val_loss: 4.7359 - val_acc: 0.3440\n",
      "Epoch 80/200\n",
      "20106/20106 [==============================] - 57s 3ms/sample - loss: 1.2612 - acc: 0.6951 - val_loss: 4.7763 - val_acc: 0.3367\n",
      "Epoch 81/200\n",
      "20106/20106 [==============================] - 57s 3ms/sample - loss: 1.2591 - acc: 0.6954 - val_loss: 4.7793 - val_acc: 0.3414\n",
      "Epoch 82/200\n",
      "20106/20106 [==============================] - 57s 3ms/sample - loss: 1.2593 - acc: 0.6951 - val_loss: 4.7968 - val_acc: 0.3351\n",
      "Epoch 83/200\n",
      "20106/20106 [==============================] - 57s 3ms/sample - loss: 1.2559 - acc: 0.6961 - val_loss: 4.7597 - val_acc: 0.3405\n",
      "Epoch 84/200\n",
      "20106/20106 [==============================] - 57s 3ms/sample - loss: 1.2558 - acc: 0.6960 - val_loss: 4.8039 - val_acc: 0.3409\n",
      "Epoch 85/200\n",
      "20106/20106 [==============================] - 58s 3ms/sample - loss: 1.2536 - acc: 0.6966 - val_loss: 4.8056 - val_acc: 0.3396\n",
      "Epoch 86/200\n",
      "20106/20106 [==============================] - 57s 3ms/sample - loss: 1.2523 - acc: 0.6970 - val_loss: 4.7967 - val_acc: 0.3408\n",
      "Epoch 87/200\n",
      "20106/20106 [==============================] - 58s 3ms/sample - loss: 1.2521 - acc: 0.6970 - val_loss: 4.7852 - val_acc: 0.3407\n",
      "Epoch 88/200\n",
      "20106/20106 [==============================] - 57s 3ms/sample - loss: 1.2508 - acc: 0.6973 - val_loss: 4.8025 - val_acc: 0.3411\n",
      "Epoch 89/200\n",
      "20106/20106 [==============================] - 57s 3ms/sample - loss: 1.2499 - acc: 0.6973 - val_loss: 4.7978 - val_acc: 0.3384\n",
      "Epoch 90/200\n",
      "20106/20106 [==============================] - 57s 3ms/sample - loss: 1.2488 - acc: 0.6974 - val_loss: 4.7869 - val_acc: 0.3357\n",
      "Epoch 91/200\n",
      "20106/20106 [==============================] - 57s 3ms/sample - loss: 1.2465 - acc: 0.6981 - val_loss: 4.7902 - val_acc: 0.3416\n",
      "Epoch 92/200\n",
      "20106/20106 [==============================] - 57s 3ms/sample - loss: 1.2462 - acc: 0.6980 - val_loss: 4.7967 - val_acc: 0.3417\n",
      "Epoch 93/200\n",
      "20106/20106 [==============================] - 57s 3ms/sample - loss: 1.2445 - acc: 0.6984 - val_loss: 4.8434 - val_acc: 0.3371\n",
      "Epoch 94/200\n",
      "20106/20106 [==============================] - 58s 3ms/sample - loss: 1.2437 - acc: 0.6988 - val_loss: 4.8339 - val_acc: 0.3387\n",
      "Epoch 95/200\n",
      "20106/20106 [==============================] - 59s 3ms/sample - loss: 1.2433 - acc: 0.6985 - val_loss: 4.7872 - val_acc: 0.3399\n",
      "Epoch 96/200\n",
      "20106/20106 [==============================] - 59s 3ms/sample - loss: 1.2411 - acc: 0.6994 - val_loss: 4.8315 - val_acc: 0.3349\n",
      "Epoch 97/200\n",
      "20106/20106 [==============================] - 59s 3ms/sample - loss: 1.2396 - acc: 0.6999 - val_loss: 4.8378 - val_acc: 0.3395\n",
      "Epoch 98/200\n",
      "20106/20106 [==============================] - 59s 3ms/sample - loss: 1.2384 - acc: 0.6998 - val_loss: 4.8481 - val_acc: 0.3359\n",
      "Epoch 99/200\n",
      "20106/20106 [==============================] - 59s 3ms/sample - loss: 1.2383 - acc: 0.7000 - val_loss: 4.8262 - val_acc: 0.3405\n",
      "Epoch 100/200\n",
      "20106/20106 [==============================] - 59s 3ms/sample - loss: 1.2376 - acc: 0.7000 - val_loss: 4.8676 - val_acc: 0.3393\n",
      "Epoch 101/200\n",
      "20106/20106 [==============================] - 58s 3ms/sample - loss: 1.2359 - acc: 0.7002 - val_loss: 4.8759 - val_acc: 0.3352\n",
      "Epoch 102/200\n",
      "20106/20106 [==============================] - 60s 3ms/sample - loss: 1.2358 - acc: 0.6999 - val_loss: 4.8318 - val_acc: 0.3404\n",
      "Epoch 103/200\n",
      "20106/20106 [==============================] - 59s 3ms/sample - loss: 1.2336 - acc: 0.7009 - val_loss: 4.8299 - val_acc: 0.3389\n",
      "Epoch 104/200\n",
      "20106/20106 [==============================] - 59s 3ms/sample - loss: 1.2321 - acc: 0.7012 - val_loss: 4.8415 - val_acc: 0.3368\n",
      "Epoch 105/200\n",
      "20106/20106 [==============================] - 59s 3ms/sample - loss: 1.2323 - acc: 0.7011 - val_loss: 4.8277 - val_acc: 0.3390\n",
      "Epoch 106/200\n",
      "20106/20106 [==============================] - 58s 3ms/sample - loss: 1.2296 - acc: 0.7017 - val_loss: 4.8687 - val_acc: 0.3327\n",
      "Epoch 107/200\n",
      "20106/20106 [==============================] - 59s 3ms/sample - loss: 1.2301 - acc: 0.7014 - val_loss: 4.8805 - val_acc: 0.3373\n",
      "Epoch 108/200\n",
      "20106/20106 [==============================] - 59s 3ms/sample - loss: 1.2283 - acc: 0.7021 - val_loss: 4.8576 - val_acc: 0.3374\n",
      "Epoch 109/200\n",
      "20106/20106 [==============================] - 59s 3ms/sample - loss: 1.2277 - acc: 0.7022 - val_loss: 4.8345 - val_acc: 0.3376\n",
      "Epoch 110/200\n",
      "20106/20106 [==============================] - 58s 3ms/sample - loss: 1.2262 - acc: 0.7027 - val_loss: 4.8877 - val_acc: 0.3377\n",
      "Epoch 111/200\n",
      "20106/20106 [==============================] - 59s 3ms/sample - loss: 1.2251 - acc: 0.7027 - val_loss: 4.8407 - val_acc: 0.3385\n",
      "Epoch 112/200\n",
      "20106/20106 [==============================] - 59s 3ms/sample - loss: 1.2235 - acc: 0.7031 - val_loss: 4.8228 - val_acc: 0.3419\n",
      "Epoch 113/200\n",
      "20106/20106 [==============================] - 59s 3ms/sample - loss: 1.2218 - acc: 0.7037 - val_loss: 4.8342 - val_acc: 0.3409\n",
      "Epoch 114/200\n",
      "20106/20106 [==============================] - 59s 3ms/sample - loss: 1.2218 - acc: 0.7034 - val_loss: 4.8996 - val_acc: 0.3380\n",
      "Epoch 115/200\n",
      "20106/20106 [==============================] - 58s 3ms/sample - loss: 1.2212 - acc: 0.7035 - val_loss: 4.8504 - val_acc: 0.3365\n",
      "Epoch 116/200\n",
      "20106/20106 [==============================] - 59s 3ms/sample - loss: 1.2185 - acc: 0.7043 - val_loss: 4.8552 - val_acc: 0.3407\n"
     ]
    },
    {
     "name": "stdout",
     "output_type": "stream",
     "text": [
      "Epoch 117/200\n",
      "20106/20106 [==============================] - 59s 3ms/sample - loss: 1.2188 - acc: 0.7042 - val_loss: 4.9052 - val_acc: 0.3360\n",
      "Epoch 118/200\n",
      "20106/20106 [==============================] - 59s 3ms/sample - loss: 1.2176 - acc: 0.7041 - val_loss: 4.9067 - val_acc: 0.3351\n",
      "Epoch 119/200\n",
      "20106/20106 [==============================] - 59s 3ms/sample - loss: 1.2167 - acc: 0.7046 - val_loss: 4.8644 - val_acc: 0.3398\n",
      "Epoch 120/200\n",
      "20106/20106 [==============================] - 58s 3ms/sample - loss: 1.2146 - acc: 0.7051 - val_loss: 4.8782 - val_acc: 0.3380\n",
      "Epoch 121/200\n",
      "20106/20106 [==============================] - 59s 3ms/sample - loss: 1.2133 - acc: 0.7050 - val_loss: 4.8667 - val_acc: 0.3403\n",
      "Epoch 122/200\n",
      "20106/20106 [==============================] - 58s 3ms/sample - loss: 1.2128 - acc: 0.7054 - val_loss: 4.8758 - val_acc: 0.3364\n",
      "Epoch 123/200\n",
      "20106/20106 [==============================] - 59s 3ms/sample - loss: 1.2118 - acc: 0.7056 - val_loss: 4.8834 - val_acc: 0.3394\n",
      "Epoch 124/200\n",
      "20106/20106 [==============================] - 58s 3ms/sample - loss: 1.2106 - acc: 0.7058 - val_loss: 4.9045 - val_acc: 0.3345\n",
      "Epoch 125/200\n",
      "20106/20106 [==============================] - 59s 3ms/sample - loss: 1.2104 - acc: 0.7058 - val_loss: 4.9089 - val_acc: 0.3357\n",
      "Epoch 126/200\n",
      "20106/20106 [==============================] - 59s 3ms/sample - loss: 1.2085 - acc: 0.7059 - val_loss: 4.9162 - val_acc: 0.3363\n",
      "Epoch 127/200\n",
      "20106/20106 [==============================] - 59s 3ms/sample - loss: 1.2086 - acc: 0.7060 - val_loss: 4.9048 - val_acc: 0.3371\n",
      "Epoch 128/200\n",
      "20106/20106 [==============================] - 59s 3ms/sample - loss: 1.2063 - acc: 0.7066 - val_loss: 4.8815 - val_acc: 0.3396\n",
      "Epoch 129/200\n",
      "20106/20106 [==============================] - 58s 3ms/sample - loss: 1.2053 - acc: 0.7069 - val_loss: 4.8985 - val_acc: 0.3406\n",
      "Epoch 130/200\n",
      "20106/20106 [==============================] - 59s 3ms/sample - loss: 1.2043 - acc: 0.7075 - val_loss: 4.9088 - val_acc: 0.3339\n",
      "Epoch 131/200\n",
      "20106/20106 [==============================] - 59s 3ms/sample - loss: 1.2031 - acc: 0.7069 - val_loss: 4.8951 - val_acc: 0.3367\n",
      "Epoch 132/200\n",
      "20106/20106 [==============================] - 60s 3ms/sample - loss: 1.2026 - acc: 0.7075 - val_loss: 4.9592 - val_acc: 0.3339\n",
      "Epoch 133/200\n",
      "20106/20106 [==============================] - 58s 3ms/sample - loss: 1.2032 - acc: 0.7072 - val_loss: 4.9239 - val_acc: 0.3371\n",
      "Epoch 134/200\n",
      "20106/20106 [==============================] - 59s 3ms/sample - loss: 1.2005 - acc: 0.7081 - val_loss: 4.9648 - val_acc: 0.3317\n",
      "Epoch 135/200\n",
      "20106/20106 [==============================] - 59s 3ms/sample - loss: 1.2001 - acc: 0.7078 - val_loss: 4.9543 - val_acc: 0.3347\n",
      "Epoch 136/200\n",
      "20106/20106 [==============================] - 58s 3ms/sample - loss: 1.1990 - acc: 0.7079 - val_loss: 4.9207 - val_acc: 0.3371\n",
      "Epoch 137/200\n",
      "20106/20106 [==============================] - 59s 3ms/sample - loss: 1.1974 - acc: 0.7086 - val_loss: 4.9283 - val_acc: 0.3373\n",
      "Epoch 138/200\n",
      "20106/20106 [==============================] - 58s 3ms/sample - loss: 1.1987 - acc: 0.7078 - val_loss: 4.9108 - val_acc: 0.3385\n",
      "Epoch 139/200\n",
      "20106/20106 [==============================] - 59s 3ms/sample - loss: 1.1946 - acc: 0.7090 - val_loss: 4.9654 - val_acc: 0.3352\n",
      "Epoch 140/200\n",
      "20106/20106 [==============================] - 59s 3ms/sample - loss: 1.1946 - acc: 0.7090 - val_loss: 4.9645 - val_acc: 0.3370\n",
      "Epoch 141/200\n",
      "20106/20106 [==============================] - 59s 3ms/sample - loss: 1.1940 - acc: 0.7093 - val_loss: 4.9533 - val_acc: 0.3343\n",
      "Epoch 142/200\n",
      "20106/20106 [==============================] - 59s 3ms/sample - loss: 1.1919 - acc: 0.7098 - val_loss: 4.9174 - val_acc: 0.3364\n",
      "Epoch 143/200\n",
      "20106/20106 [==============================] - 59s 3ms/sample - loss: 1.1926 - acc: 0.7093 - val_loss: 4.9557 - val_acc: 0.3359\n",
      "Epoch 144/200\n",
      "20106/20106 [==============================] - 60s 3ms/sample - loss: 1.1907 - acc: 0.7098 - val_loss: 4.9511 - val_acc: 0.3371\n",
      "Epoch 145/200\n",
      "20106/20106 [==============================] - 59s 3ms/sample - loss: 1.1893 - acc: 0.7102 - val_loss: 4.9654 - val_acc: 0.3359\n",
      "Epoch 146/200\n",
      "20106/20106 [==============================] - 59s 3ms/sample - loss: 1.1893 - acc: 0.7101 - val_loss: 4.9852 - val_acc: 0.3340\n",
      "Epoch 147/200\n",
      "20106/20106 [==============================] - 59s 3ms/sample - loss: 1.1888 - acc: 0.7101 - val_loss: 4.9325 - val_acc: 0.3357\n",
      "Epoch 148/200\n",
      "20106/20106 [==============================] - 59s 3ms/sample - loss: 1.1873 - acc: 0.7107 - val_loss: 4.9728 - val_acc: 0.3351\n",
      "Epoch 149/200\n",
      "20106/20106 [==============================] - 59s 3ms/sample - loss: 1.1854 - acc: 0.7111 - val_loss: 4.9310 - val_acc: 0.3350\n",
      "Epoch 150/200\n",
      "20106/20106 [==============================] - 59s 3ms/sample - loss: 1.1845 - acc: 0.7111 - val_loss: 4.9609 - val_acc: 0.3357\n",
      "Epoch 151/200\n",
      "20106/20106 [==============================] - 59s 3ms/sample - loss: 1.1832 - acc: 0.7115 - val_loss: 4.9658 - val_acc: 0.3394\n",
      "Epoch 152/200\n",
      "20106/20106 [==============================] - 58s 3ms/sample - loss: 1.1841 - acc: 0.7113 - val_loss: 4.9547 - val_acc: 0.3370\n",
      "Epoch 153/200\n",
      "20106/20106 [==============================] - 59s 3ms/sample - loss: 1.1828 - acc: 0.7114 - val_loss: 4.9555 - val_acc: 0.3364\n",
      "Epoch 154/200\n",
      "20106/20106 [==============================] - 59s 3ms/sample - loss: 1.1810 - acc: 0.7122 - val_loss: 4.9492 - val_acc: 0.3364\n",
      "Epoch 155/200\n",
      "20106/20106 [==============================] - 59s 3ms/sample - loss: 1.1796 - acc: 0.7126 - val_loss: 4.9765 - val_acc: 0.3334\n",
      "Epoch 156/200\n",
      "20106/20106 [==============================] - 59s 3ms/sample - loss: 1.1799 - acc: 0.7122 - val_loss: 4.9682 - val_acc: 0.3365\n",
      "Epoch 157/200\n",
      "20106/20106 [==============================] - 58s 3ms/sample - loss: 1.1783 - acc: 0.7126 - val_loss: 5.0012 - val_acc: 0.3383\n",
      "Epoch 158/200\n",
      "20106/20106 [==============================] - 60s 3ms/sample - loss: 1.1777 - acc: 0.7124 - val_loss: 4.9672 - val_acc: 0.3386\n",
      "Epoch 159/200\n",
      "20106/20106 [==============================] - 59s 3ms/sample - loss: 1.1762 - acc: 0.7129 - val_loss: 4.9858 - val_acc: 0.3338\n",
      "Epoch 160/200\n",
      "20106/20106 [==============================] - 60s 3ms/sample - loss: 1.1747 - acc: 0.7132 - val_loss: 4.9896 - val_acc: 0.3359\n",
      "Epoch 161/200\n",
      "20106/20106 [==============================] - 58s 3ms/sample - loss: 1.1746 - acc: 0.7130 - val_loss: 5.0094 - val_acc: 0.3383\n",
      "Epoch 162/200\n",
      "20106/20106 [==============================] - 59s 3ms/sample - loss: 1.1751 - acc: 0.7129 - val_loss: 5.0010 - val_acc: 0.3367\n",
      "Epoch 163/200\n",
      "20106/20106 [==============================] - 59s 3ms/sample - loss: 1.1736 - acc: 0.7135 - val_loss: 4.9841 - val_acc: 0.3369\n",
      "Epoch 164/200\n",
      "20106/20106 [==============================] - 60s 3ms/sample - loss: 1.1722 - acc: 0.7136 - val_loss: 5.0116 - val_acc: 0.3347\n",
      "Epoch 165/200\n",
      "20106/20106 [==============================] - 60s 3ms/sample - loss: 1.1712 - acc: 0.7139 - val_loss: 5.0051 - val_acc: 0.3353\n",
      "Epoch 166/200\n",
      "20106/20106 [==============================] - 58s 3ms/sample - loss: 1.1703 - acc: 0.7141 - val_loss: 4.9790 - val_acc: 0.3367\n",
      "Epoch 167/200\n",
      "20106/20106 [==============================] - 59s 3ms/sample - loss: 1.1679 - acc: 0.7149 - val_loss: 5.0218 - val_acc: 0.3302\n",
      "Epoch 168/200\n",
      "20106/20106 [==============================] - 59s 3ms/sample - loss: 1.1674 - acc: 0.7151 - val_loss: 5.0301 - val_acc: 0.3350\n",
      "Epoch 169/200\n",
      "20106/20106 [==============================] - 59s 3ms/sample - loss: 1.1679 - acc: 0.7147 - val_loss: 4.9920 - val_acc: 0.3356\n",
      "Epoch 170/200\n",
      "20106/20106 [==============================] - 59s 3ms/sample - loss: 1.1663 - acc: 0.7148 - val_loss: 5.0634 - val_acc: 0.3319\n",
      "Epoch 171/200\n",
      "20106/20106 [==============================] - 59s 3ms/sample - loss: 1.1647 - acc: 0.7155 - val_loss: 5.0312 - val_acc: 0.3336\n",
      "Epoch 172/200\n",
      "20106/20106 [==============================] - 59s 3ms/sample - loss: 1.1649 - acc: 0.7154 - val_loss: 5.0483 - val_acc: 0.3303\n",
      "Epoch 173/200\n",
      "20106/20106 [==============================] - 59s 3ms/sample - loss: 1.1639 - acc: 0.7153 - val_loss: 5.0433 - val_acc: 0.3352\n",
      "Epoch 174/200\n",
      "20106/20106 [==============================] - 59s 3ms/sample - loss: 1.1631 - acc: 0.7155 - val_loss: 5.0304 - val_acc: 0.3361\n"
     ]
    },
    {
     "name": "stdout",
     "output_type": "stream",
     "text": [
      "Epoch 175/200\n",
      "20106/20106 [==============================] - 58s 3ms/sample - loss: 1.1618 - acc: 0.7162 - val_loss: 5.0215 - val_acc: 0.3345\n",
      "Epoch 176/200\n",
      "20106/20106 [==============================] - 59s 3ms/sample - loss: 1.1609 - acc: 0.7158 - val_loss: 5.0169 - val_acc: 0.3343\n",
      "Epoch 177/200\n",
      "20106/20106 [==============================] - 59s 3ms/sample - loss: 1.1595 - acc: 0.7165 - val_loss: 5.0125 - val_acc: 0.3361\n",
      "Epoch 178/200\n",
      "20106/20106 [==============================] - 59s 3ms/sample - loss: 1.1589 - acc: 0.7166 - val_loss: 5.0570 - val_acc: 0.3301\n",
      "Epoch 179/200\n",
      "20106/20106 [==============================] - 60s 3ms/sample - loss: 1.1587 - acc: 0.7166 - val_loss: 5.0459 - val_acc: 0.3316\n",
      "Epoch 180/200\n",
      "20106/20106 [==============================] - 59s 3ms/sample - loss: 1.1567 - acc: 0.7168 - val_loss: 5.0441 - val_acc: 0.3361\n",
      "Epoch 181/200\n",
      "20106/20106 [==============================] - 59s 3ms/sample - loss: 1.1569 - acc: 0.7171 - val_loss: 5.0354 - val_acc: 0.3348\n",
      "Epoch 182/200\n",
      "20106/20106 [==============================] - 59s 3ms/sample - loss: 1.1552 - acc: 0.7174 - val_loss: 5.0433 - val_acc: 0.3338\n",
      "Epoch 183/200\n",
      "20106/20106 [==============================] - 60s 3ms/sample - loss: 1.1539 - acc: 0.7178 - val_loss: 5.0216 - val_acc: 0.3355\n",
      "Epoch 184/200\n",
      "20106/20106 [==============================] - 59s 3ms/sample - loss: 1.1541 - acc: 0.7177 - val_loss: 5.0865 - val_acc: 0.3289\n",
      "Epoch 185/200\n",
      "20106/20106 [==============================] - 59s 3ms/sample - loss: 1.1523 - acc: 0.7178 - val_loss: 5.0546 - val_acc: 0.3330\n",
      "Epoch 186/200\n",
      "20106/20106 [==============================] - 59s 3ms/sample - loss: 1.1517 - acc: 0.7181 - val_loss: 5.0548 - val_acc: 0.3329\n",
      "Epoch 187/200\n",
      "20106/20106 [==============================] - 57s 3ms/sample - loss: 1.1502 - acc: 0.7184 - val_loss: 5.0646 - val_acc: 0.3332\n",
      "Epoch 188/200\n",
      "20106/20106 [==============================] - 57s 3ms/sample - loss: 1.1489 - acc: 0.7190 - val_loss: 5.1133 - val_acc: 0.3283\n",
      "Epoch 189/200\n",
      "20106/20106 [==============================] - 57s 3ms/sample - loss: 1.1496 - acc: 0.7185 - val_loss: 5.0363 - val_acc: 0.3364\n",
      "Epoch 190/200\n",
      "20106/20106 [==============================] - 57s 3ms/sample - loss: 1.1483 - acc: 0.7184 - val_loss: 5.0694 - val_acc: 0.3355\n",
      "Epoch 191/200\n",
      "20106/20106 [==============================] - 57s 3ms/sample - loss: 1.1487 - acc: 0.7190 - val_loss: 5.0519 - val_acc: 0.3338\n",
      "Epoch 192/200\n",
      "20106/20106 [==============================] - 57s 3ms/sample - loss: 1.1478 - acc: 0.7187 - val_loss: 5.0472 - val_acc: 0.3321\n",
      "Epoch 193/200\n",
      "20106/20106 [==============================] - 57s 3ms/sample - loss: 1.1459 - acc: 0.7195 - val_loss: 5.0313 - val_acc: 0.3354\n",
      "Epoch 194/200\n",
      "20106/20106 [==============================] - 57s 3ms/sample - loss: 1.1458 - acc: 0.7191 - val_loss: 5.0384 - val_acc: 0.3367\n",
      "Epoch 195/200\n",
      "20106/20106 [==============================] - 57s 3ms/sample - loss: 1.1442 - acc: 0.7194 - val_loss: 5.0340 - val_acc: 0.3350\n",
      "Epoch 196/200\n",
      "20106/20106 [==============================] - 57s 3ms/sample - loss: 1.1443 - acc: 0.7191 - val_loss: 5.0797 - val_acc: 0.3310\n",
      "Epoch 197/200\n",
      "20106/20106 [==============================] - 57s 3ms/sample - loss: 1.1414 - acc: 0.7202 - val_loss: 5.0802 - val_acc: 0.3342\n",
      "Epoch 198/200\n",
      "20106/20106 [==============================] - 57s 3ms/sample - loss: 1.1427 - acc: 0.7197 - val_loss: 5.1279 - val_acc: 0.3284\n",
      "Epoch 199/200\n",
      "20106/20106 [==============================] - 57s 3ms/sample - loss: 1.1413 - acc: 0.7203 - val_loss: 5.1123 - val_acc: 0.3297\n",
      "Epoch 200/200\n",
      "20106/20106 [==============================] - 57s 3ms/sample - loss: 1.1406 - acc: 0.7203 - val_loss: 5.1054 - val_acc: 0.3317\n"
     ]
    }
   ],
   "source": [
    "history = model.fit([encoder_input_data, decoder_input_data], decoder_target_data, batch_size=batch_size, epochs=200, validation_split=0.1, workers=16)"
   ]
  },
  {
   "cell_type": "markdown",
   "metadata": {},
   "source": [
    "### 权重保存"
   ]
  },
  {
   "cell_type": "code",
   "execution_count": 9,
   "metadata": {},
   "outputs": [],
   "source": [
    "model.save_weights(\"PsyQA_lstm_50_weights_2.h5\")"
   ]
  },
  {
   "cell_type": "markdown",
   "metadata": {},
   "source": [
    "### acc与loss曲线"
   ]
  },
  {
   "cell_type": "code",
   "execution_count": 10,
   "metadata": {},
   "outputs": [
    {
     "data": {
      "text/plain": [
       "Text(0.5, 1.0, 'acc - epochs')"
      ]
     },
     "execution_count": 10,
     "metadata": {},
     "output_type": "execute_result"
    },
    {
     "data": {
      "image/png": "[encoded data removed]",
      "text/plain": [
       "<Figure size 560x320 with 1 Axes>"
      ]
     },
     "metadata": {
      "needs_background": "light"
     },
     "output_type": "display_data"
    }
   ],
   "source": [
    "from matplotlib import pyplot as plt\n",
    "acc = history.history['acc']\n",
    "plt.figure(figsize=(7,4),dpi=80) #图片大小、像素\n",
    "x = range(1,201) #横坐标\n",
    "plt.plot(x, acc, label = 'acc', color='green')\n",
    "plt.xlabel('epochs') #x轴标题\n",
    "plt.ylabel('accuracy') #y轴标题\n",
    "plt.title(\"acc - epochs\") #标题"
   ]
  },
  {
   "cell_type": "code",
   "execution_count": 11,
   "metadata": {},
   "outputs": [
    {
     "data": {
      "text/plain": [
       "Text(0.5, 1.0, 'loss - epochs')"
      ]
     },
     "execution_count": 11,
     "metadata": {},
     "output_type": "execute_result"
    },
    {
     "data": {
      "image/png": "[encoded data removed]",
      "text/plain": [
       "<Figure size 560x320 with 1 Axes>"
      ]
     },
     "metadata": {
      "needs_background": "light"
     },
     "output_type": "display_data"
    }
   ],
   "source": [
    "loss = history.history['loss']\n",
    "plt.figure(figsize=(7,4),dpi=80) #图片大小、像素\n",
    "x = range(1,201) #横坐标\n",
    "plt.plot(x, loss, label = 'loss', color='green')\n",
    "plt.xlabel('epochs') #x轴标题\n",
    "plt.ylabel('loss') #y轴标题\n",
    "plt.title(\"loss - epochs\") #标题"
   ]
  },
  {
   "cell_type": "markdown",
   "metadata": {},
   "source": [
    "### 根据以上网络结构编写回复生成器"
   ]
  },
  {
   "cell_type": "code",
   "execution_count": 12,
   "metadata": {},
   "outputs": [
    {
     "name": "stdout",
     "output_type": "stream",
     "text": [
      "Model: \"model_2\"\n",
      "__________________________________________________________________________________________________\n",
      "Layer (type)                    Output Shape         Param #     Connected to                     \n",
      "==================================================================================================\n",
      "input_2 (InputLayer)            [(None, None, 3417)] 0                                            \n",
      "__________________________________________________________________________________________________\n",
      "input_3 (InputLayer)            [(None, 256)]        0                                            \n",
      "__________________________________________________________________________________________________\n",
      "input_4 (InputLayer)            [(None, 256)]        0                                            \n",
      "__________________________________________________________________________________________________\n",
      "lstm_1 (LSTM)                   [(None, None, 256),  3762176     input_2[0][0]                    \n",
      "                                                                 input_3[0][0]                    \n",
      "                                                                 input_4[0][0]                    \n",
      "__________________________________________________________________________________________________\n",
      "dense (Dense)                   (None, None, 3417)   878169      lstm_1[1][0]                     \n",
      "==================================================================================================\n",
      "Total params: 4,640,345\n",
      "Trainable params: 4,640,345\n",
      "Non-trainable params: 0\n",
      "__________________________________________________________________________________________________\n"
     ]
    }
   ],
   "source": [
    "#构造回复生成器模型\n",
    "encoder_model = keras.models.Model(encoder_inputs, encoder_states)\n",
    "thought_input = [keras.layers.Input(shape=(num_neurons, )), keras.layers.Input(shape=(num_neurons, ))]\n",
    "decoder_outputs, state_h, state_c = decoder_lstm(decoder_inputs, initial_state=thought_input)\n",
    "decoder_states = [state_h, state_c]\n",
    "decoder_outputs = decoder_dense(decoder_outputs)\n",
    "decoder_model = keras.models.Model([decoder_inputs] + thought_input, [decoder_outputs] + decoder_states)\n",
    "decoder_model.summary()"
   ]
  },
  {
   "cell_type": "code",
   "execution_count": 13,
   "metadata": {},
   "outputs": [],
   "source": [
    "#建立基于字符的翻译器\n",
    "def decode_sequence(input_seq):\n",
    "    thought = encoder_model.predict(input_seq)\n",
    "    target_seq = np.zeros((1, 1, output_vocab_size))\n",
    "    target_seq[0, 0, target_token_index[stop_token]] = 1\n",
    "    stop_condition = False\n",
    "    generated_sequence = ''\n",
    "    while not stop_condition:\n",
    "        output_tokens, h, c = decoder_model.predict([target_seq] + thought)\n",
    "        generated_token_idx = np.argmax(output_tokens[0, -1, :])\n",
    "        generated_char = reverse_target_char_index[generated_token_idx]\n",
    "        generated_sequence += generated_char\n",
    "        if (generated_char == stop_token):  #生成停止符就停止\n",
    "            stop_condition = True\n",
    "        target_seq = np.zeros((1, 1, output_vocab_size))\n",
    "        target_seq[0, 0, generated_token_idx] = 1\n",
    "        thought = [h,c]\n",
    "    return generated_sequence\n",
    "#生成回复\n",
    "def response(input_text):\n",
    "    input_seq = np.zeros((1, max_encoder_seq_length, input_vocab_size), dtype='float32')\n",
    "    for t, char in enumerate(input_text):\n",
    "        input_seq[0, t, input_token_index[char]] = 1\n",
    "    decoded_sentence = decode_sequence(input_seq)\n",
    "    print('Bot Reply (Decoded sentence):', decoded_sentence)"
   ]
  },
  {
   "cell_type": "markdown",
   "metadata": {},
   "source": [
    "### 聊天测试"
   ]
  },
  {
   "cell_type": "code",
   "execution_count": 21,
   "metadata": {},
   "outputs": [
    {
     "name": "stdout",
     "output_type": "stream",
     "text": [
      "Bot Reply (Decoded sentence): 你好！看到你的问题，我想说了，我也是一个忙在生活的人，自己也不错，以计算个算依赖依赖强，但重重的选量。\n",
      "\n"
     ]
    }
   ],
   "source": [
    "response('总是要考虑很多问题，我感觉我活在世界上就没有意义？')"
   ]
  },
  {
   "cell_type": "code",
   "execution_count": 15,
   "metadata": {},
   "outputs": [
    {
     "name": "stdout",
     "output_type": "stream",
     "text": [
      "Bot Reply (Decoded sentence): 你好如果一下你父母不理解和她的关心，视和理解。我也很担心这样做梦吧，是陌生的。你不喜欢你说你多重的人\n",
      "\n"
     ]
    }
   ],
   "source": [
    "response('我要通过这种方式和父亲断绝关系！')"
   ]
  },
  {
   "cell_type": "code",
   "execution_count": 17,
   "metadata": {},
   "outputs": [
    {
     "name": "stdout",
     "output_type": "stream",
     "text": [
      "Bot Reply (Decoded sentence): 题主，你好，抱抱你呀～看了你的描述，你最近的状态不太好，因为自己特别的内心有怀疑自己，或许是你的自身\n",
      "\n"
     ]
    }
   ],
   "source": [
    "response('她性格实在是太慢了，要不要继续维持这段友谊？')"
   ]
  },
  {
   "cell_type": "code",
   "execution_count": null,
   "metadata": {},
   "outputs": [],
   "source": []
  }
 ],
 "metadata": {
  "kernelspec": {
   "display_name": "Python 3",
   "language": "python",
   "name": "python3"
  },
  "language_info": {
   "codemirror_mode": {
    "name": "ipython",
    "version": 3
   },
   "file_extension": ".py",
   "mimetype": "text/x-python",
   "name": "python",
   "nbconvert_exporter": "python",
   "pygments_lexer": "ipython3",
   "version": "3.7.6"
  }
 },
 "nbformat": 4,
 "nbformat_minor": 5
}
